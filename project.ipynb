{
 "cells": [
  {
   "cell_type": "code",
   "execution_count": 1,
   "id": "initial_id",
   "metadata": {
    "collapsed": true,
    "ExecuteTime": {
     "end_time": "2025-03-28T02:33:15.010841200Z",
     "start_time": "2025-03-28T02:33:13.584709300Z"
    }
   },
   "outputs": [],
   "source": [
    "import matplotlib.pyplot as plt\n",
    "import numpy as np\n",
    "import pandas as pd\n",
    "import seaborn as sns"
   ]
  },
  {
   "cell_type": "markdown",
   "source": [
    "## Loading Data"
   ],
   "metadata": {
    "collapsed": false
   },
   "id": "f017f18efa8915cf"
  },
  {
   "cell_type": "code",
   "execution_count": 2,
   "outputs": [],
   "source": [
    "train = pd.read_csv('train.csv')\n",
    "test = pd.read_csv('test.csv')\n",
    "\n",
    "holidays = pd.read_csv('holidays_events.csv')\n",
    "stores = pd.read_csv('stores.csv')\n",
    "oil = pd.read_csv('oil.csv')\n",
    "transactions = pd.read_csv('transactions.csv')"
   ],
   "metadata": {
    "collapsed": false,
    "ExecuteTime": {
     "end_time": "2025-03-28T02:33:15.660231700Z",
     "start_time": "2025-03-28T02:33:13.589506900Z"
    }
   },
   "id": "5bd85de166dba743"
  },
  {
   "cell_type": "code",
   "execution_count": 3,
   "outputs": [
    {
     "data": {
      "text/plain": "              id        date  store_nbr               family   sales  \\\n1929736  1929736  2015-12-21         53              POULTRY  574.17   \n1075561  1075561  2014-08-28         37        PERSONAL CARE  151.00   \n2789934  2789934  2017-04-19          4   HOME AND KITCHEN I    9.00   \n531161    531161  2013-10-26         12         PET SUPPLIES    0.00   \n2396047  2396047  2016-09-09         38  HOME AND KITCHEN II   15.00   \n\n         onpromotion  \n1929736            0  \n1075561            0  \n2789934            4  \n531161             0  \n2396047            2  ",
      "text/html": "<div>\n<style scoped>\n    .dataframe tbody tr th:only-of-type {\n        vertical-align: middle;\n    }\n\n    .dataframe tbody tr th {\n        vertical-align: top;\n    }\n\n    .dataframe thead th {\n        text-align: right;\n    }\n</style>\n<table border=\"1\" class=\"dataframe\">\n  <thead>\n    <tr style=\"text-align: right;\">\n      <th></th>\n      <th>id</th>\n      <th>date</th>\n      <th>store_nbr</th>\n      <th>family</th>\n      <th>sales</th>\n      <th>onpromotion</th>\n    </tr>\n  </thead>\n  <tbody>\n    <tr>\n      <th>1929736</th>\n      <td>1929736</td>\n      <td>2015-12-21</td>\n      <td>53</td>\n      <td>POULTRY</td>\n      <td>574.17</td>\n      <td>0</td>\n    </tr>\n    <tr>\n      <th>1075561</th>\n      <td>1075561</td>\n      <td>2014-08-28</td>\n      <td>37</td>\n      <td>PERSONAL CARE</td>\n      <td>151.00</td>\n      <td>0</td>\n    </tr>\n    <tr>\n      <th>2789934</th>\n      <td>2789934</td>\n      <td>2017-04-19</td>\n      <td>4</td>\n      <td>HOME AND KITCHEN I</td>\n      <td>9.00</td>\n      <td>4</td>\n    </tr>\n    <tr>\n      <th>531161</th>\n      <td>531161</td>\n      <td>2013-10-26</td>\n      <td>12</td>\n      <td>PET SUPPLIES</td>\n      <td>0.00</td>\n      <td>0</td>\n    </tr>\n    <tr>\n      <th>2396047</th>\n      <td>2396047</td>\n      <td>2016-09-09</td>\n      <td>38</td>\n      <td>HOME AND KITCHEN II</td>\n      <td>15.00</td>\n      <td>2</td>\n    </tr>\n  </tbody>\n</table>\n</div>"
     },
     "execution_count": 3,
     "metadata": {},
     "output_type": "execute_result"
    }
   ],
   "source": [
    "train.sample(5)"
   ],
   "metadata": {
    "collapsed": false,
    "ExecuteTime": {
     "end_time": "2025-03-28T02:33:15.967718700Z",
     "start_time": "2025-03-28T02:33:15.657237400Z"
    }
   },
   "id": "8fedfc9e46619a38"
  },
  {
   "cell_type": "markdown",
   "source": [
    "## Exploring Data"
   ],
   "metadata": {
    "collapsed": false
   },
   "id": "b0b62163cbe6e11b"
  },
  {
   "cell_type": "code",
   "execution_count": 4,
   "outputs": [
    {
     "name": "stdout",
     "output_type": "stream",
     "text": [
      "train\n",
      "<class 'pandas.core.frame.DataFrame'>\n",
      "RangeIndex: 3000888 entries, 0 to 3000887\n",
      "Data columns (total 6 columns):\n",
      " #   Column       Dtype  \n",
      "---  ------       -----  \n",
      " 0   id           int64  \n",
      " 1   date         object \n",
      " 2   store_nbr    int64  \n",
      " 3   family       object \n",
      " 4   sales        float64\n",
      " 5   onpromotion  int64  \n",
      "dtypes: float64(1), int64(3), object(2)\n",
      "memory usage: 137.4+ MB\n",
      "None\n",
      "-----------------------------------\n",
      "test\n",
      "<class 'pandas.core.frame.DataFrame'>\n",
      "RangeIndex: 28512 entries, 0 to 28511\n",
      "Data columns (total 5 columns):\n",
      " #   Column       Non-Null Count  Dtype \n",
      "---  ------       --------------  ----- \n",
      " 0   id           28512 non-null  int64 \n",
      " 1   date         28512 non-null  object\n",
      " 2   store_nbr    28512 non-null  int64 \n",
      " 3   family       28512 non-null  object\n",
      " 4   onpromotion  28512 non-null  int64 \n",
      "dtypes: int64(3), object(2)\n",
      "memory usage: 1.1+ MB\n",
      "None\n",
      "-----------------------------------\n",
      "holidays\n",
      "<class 'pandas.core.frame.DataFrame'>\n",
      "RangeIndex: 350 entries, 0 to 349\n",
      "Data columns (total 6 columns):\n",
      " #   Column       Non-Null Count  Dtype \n",
      "---  ------       --------------  ----- \n",
      " 0   date         350 non-null    object\n",
      " 1   type         350 non-null    object\n",
      " 2   locale       350 non-null    object\n",
      " 3   locale_name  350 non-null    object\n",
      " 4   description  350 non-null    object\n",
      " 5   transferred  350 non-null    bool  \n",
      "dtypes: bool(1), object(5)\n",
      "memory usage: 14.1+ KB\n",
      "None\n",
      "-----------------------------------\n",
      "stores\n",
      "<class 'pandas.core.frame.DataFrame'>\n",
      "RangeIndex: 54 entries, 0 to 53\n",
      "Data columns (total 5 columns):\n",
      " #   Column     Non-Null Count  Dtype \n",
      "---  ------     --------------  ----- \n",
      " 0   store_nbr  54 non-null     int64 \n",
      " 1   city       54 non-null     object\n",
      " 2   state      54 non-null     object\n",
      " 3   type       54 non-null     object\n",
      " 4   cluster    54 non-null     int64 \n",
      "dtypes: int64(2), object(3)\n",
      "memory usage: 2.2+ KB\n",
      "None\n",
      "-----------------------------------\n",
      "oil\n",
      "<class 'pandas.core.frame.DataFrame'>\n",
      "RangeIndex: 1218 entries, 0 to 1217\n",
      "Data columns (total 2 columns):\n",
      " #   Column      Non-Null Count  Dtype  \n",
      "---  ------      --------------  -----  \n",
      " 0   date        1218 non-null   object \n",
      " 1   dcoilwtico  1175 non-null   float64\n",
      "dtypes: float64(1), object(1)\n",
      "memory usage: 19.2+ KB\n",
      "None\n",
      "-----------------------------------\n",
      "transactions\n",
      "<class 'pandas.core.frame.DataFrame'>\n",
      "RangeIndex: 83488 entries, 0 to 83487\n",
      "Data columns (total 3 columns):\n",
      " #   Column        Non-Null Count  Dtype \n",
      "---  ------        --------------  ----- \n",
      " 0   date          83488 non-null  object\n",
      " 1   store_nbr     83488 non-null  int64 \n",
      " 2   transactions  83488 non-null  int64 \n",
      "dtypes: int64(2), object(1)\n",
      "memory usage: 1.9+ MB\n",
      "None\n",
      "-----------------------------------\n"
     ]
    }
   ],
   "source": [
    "all_df = [train, test, holidays, stores, oil, transactions]\n",
    "names_df = ['train', 'test', 'holidays', 'stores', 'oil', 'transactions']\n",
    "for df, name in zip(all_df, names_df):\n",
    "    print(name)\n",
    "    print(df.info())\n",
    "    print('-----------------------------------')"
   ],
   "metadata": {
    "collapsed": false,
    "ExecuteTime": {
     "end_time": "2025-03-28T02:33:16.059061400Z",
     "start_time": "2025-03-28T02:33:15.969650900Z"
    }
   },
   "id": "40add57a24c5dfe0"
  },
  {
   "cell_type": "code",
   "execution_count": 5,
   "outputs": [
    {
     "name": "stdout",
     "output_type": "stream",
     "text": [
      "train\n",
      "                 id     store_nbr         sales   onpromotion\n",
      "count  3.000888e+06  3.000888e+06  3.000888e+06  3.000888e+06\n",
      "mean   1.500444e+06  2.750000e+01  3.577757e+02  2.602770e+00\n",
      "std    8.662819e+05  1.558579e+01  1.101998e+03  1.221888e+01\n",
      "min    0.000000e+00  1.000000e+00  0.000000e+00  0.000000e+00\n",
      "25%    7.502218e+05  1.400000e+01  0.000000e+00  0.000000e+00\n",
      "50%    1.500444e+06  2.750000e+01  1.100000e+01  0.000000e+00\n",
      "75%    2.250665e+06  4.100000e+01  1.958473e+02  0.000000e+00\n",
      "max    3.000887e+06  5.400000e+01  1.247170e+05  7.410000e+02\n",
      "-----------------------------------\n",
      "test\n",
      "                 id     store_nbr   onpromotion\n",
      "count  2.851200e+04  28512.000000  28512.000000\n",
      "mean   3.015144e+06     27.500000      6.965383\n",
      "std    8.230850e+03     15.586057     20.683952\n",
      "min    3.000888e+06      1.000000      0.000000\n",
      "25%    3.008016e+06     14.000000      0.000000\n",
      "50%    3.015144e+06     27.500000      0.000000\n",
      "75%    3.022271e+06     41.000000      6.000000\n",
      "max    3.029399e+06     54.000000    646.000000\n",
      "-----------------------------------\n",
      "holidays\n",
      "              date     type    locale locale_name description transferred\n",
      "count          350      350       350         350         350         350\n",
      "unique         312        6         3          24         103           2\n",
      "top     2014-06-25  Holiday  National     Ecuador    Carnaval       False\n",
      "freq             4      221       174         174          10         338\n",
      "-----------------------------------\n",
      "stores\n",
      "       store_nbr    cluster\n",
      "count  54.000000  54.000000\n",
      "mean   27.500000   8.481481\n",
      "std    15.732133   4.693395\n",
      "min     1.000000   1.000000\n",
      "25%    14.250000   4.000000\n",
      "50%    27.500000   8.500000\n",
      "75%    40.750000  13.000000\n",
      "max    54.000000  17.000000\n",
      "-----------------------------------\n",
      "oil\n",
      "        dcoilwtico\n",
      "count  1175.000000\n",
      "mean     67.714366\n",
      "std      25.630476\n",
      "min      26.190000\n",
      "25%      46.405000\n",
      "50%      53.190000\n",
      "75%      95.660000\n",
      "max     110.620000\n",
      "-----------------------------------\n",
      "transactions\n",
      "          store_nbr  transactions\n",
      "count  83488.000000  83488.000000\n",
      "mean      26.939237   1694.602158\n",
      "std       15.608204    963.286644\n",
      "min        1.000000      5.000000\n",
      "25%       13.000000   1046.000000\n",
      "50%       27.000000   1393.000000\n",
      "75%       40.000000   2079.000000\n",
      "max       54.000000   8359.000000\n",
      "-----------------------------------\n"
     ]
    }
   ],
   "source": [
    "for df, name in zip(all_df, names_df):\n",
    "    print(name)\n",
    "    print(df.describe())\n",
    "    print('-----------------------------------')"
   ],
   "metadata": {
    "collapsed": false,
    "ExecuteTime": {
     "end_time": "2025-03-28T02:33:16.401078100Z",
     "start_time": "2025-03-28T02:33:16.023712700Z"
    }
   },
   "id": "57ad4aaec4c2f05e"
  },
  {
   "cell_type": "code",
   "execution_count": 6,
   "outputs": [
    {
     "name": "stdout",
     "output_type": "stream",
     "text": [
      "train\n",
      "0\n",
      "-----------------------------------\n",
      "test\n",
      "0\n",
      "-----------------------------------\n",
      "holidays\n",
      "0\n",
      "-----------------------------------\n",
      "stores\n",
      "0\n",
      "-----------------------------------\n",
      "oil\n",
      "0\n",
      "-----------------------------------\n",
      "transactions\n",
      "0\n",
      "-----------------------------------\n"
     ]
    }
   ],
   "source": [
    "for df, name in zip(all_df, names_df):\n",
    "    print(name)\n",
    "    print(df.duplicated().sum())\n",
    "    print('-----------------------------------')"
   ],
   "metadata": {
    "collapsed": false,
    "ExecuteTime": {
     "end_time": "2025-03-28T02:33:17.959107Z",
     "start_time": "2025-03-28T02:33:16.400077900Z"
    }
   },
   "id": "757e09728ea086eb"
  },
  {
   "cell_type": "code",
   "execution_count": 7,
   "outputs": [
    {
     "name": "stdout",
     "output_type": "stream",
     "text": [
      "train\n",
      "id             0\n",
      "date           0\n",
      "store_nbr      0\n",
      "family         0\n",
      "sales          0\n",
      "onpromotion    0\n",
      "dtype: int64\n",
      "-----------------------------------\n",
      "test\n",
      "id             0\n",
      "date           0\n",
      "store_nbr      0\n",
      "family         0\n",
      "onpromotion    0\n",
      "dtype: int64\n",
      "-----------------------------------\n",
      "holidays\n",
      "date           0\n",
      "type           0\n",
      "locale         0\n",
      "locale_name    0\n",
      "description    0\n",
      "transferred    0\n",
      "dtype: int64\n",
      "-----------------------------------\n",
      "stores\n",
      "store_nbr    0\n",
      "city         0\n",
      "state        0\n",
      "type         0\n",
      "cluster      0\n",
      "dtype: int64\n",
      "-----------------------------------\n",
      "oil\n",
      "date           0\n",
      "dcoilwtico    43\n",
      "dtype: int64\n",
      "-----------------------------------\n",
      "transactions\n",
      "date            0\n",
      "store_nbr       0\n",
      "transactions    0\n",
      "dtype: int64\n",
      "-----------------------------------\n"
     ]
    }
   ],
   "source": [
    "for df, name in zip(all_df, names_df):\n",
    "    print(name)\n",
    "    print(df.isnull().sum())\n",
    "    print('-----------------------------------')"
   ],
   "metadata": {
    "collapsed": false,
    "ExecuteTime": {
     "end_time": "2025-03-28T02:33:18.231730500Z",
     "start_time": "2025-03-28T02:33:17.958108500Z"
    }
   },
   "id": "c4fe5b44c5b06ea"
  },
  {
   "cell_type": "markdown",
   "source": [
    "## Data Cleaning"
   ],
   "metadata": {
    "collapsed": false
   },
   "id": "73a88b634c3b3b96"
  },
  {
   "cell_type": "markdown",
   "source": [
    "### Fix Date data type to be datetime instead of object"
   ],
   "metadata": {
    "collapsed": false
   },
   "id": "7e33e153ebbb3f0f"
  },
  {
   "cell_type": "code",
   "execution_count": 8,
   "outputs": [],
   "source": [
    "for df, name in zip(all_df, names_df):\n",
    "    if \"date\" in df.columns:\n",
    "        df['date'] = pd.to_datetime(df['date'])"
   ],
   "metadata": {
    "collapsed": false,
    "ExecuteTime": {
     "end_time": "2025-03-28T02:33:18.499923500Z",
     "start_time": "2025-03-28T02:33:18.190406200Z"
    }
   },
   "id": "b5541904b9c0f02"
  },
  {
   "cell_type": "markdown",
   "source": [
    "### Fill missing values in oil data using forward fill method"
   ],
   "metadata": {
    "collapsed": false
   },
   "id": "10e967fd4a8c52"
  },
  {
   "cell_type": "code",
   "execution_count": 9,
   "outputs": [
    {
     "data": {
      "text/plain": "           date  dcoilwtico\n0    2013-01-01         NaN\n1    2013-01-02       93.14\n2    2013-01-03       92.97\n3    2013-01-04       93.12\n4    2013-01-07       93.20\n...         ...         ...\n1213 2017-08-25       47.65\n1214 2017-08-28       46.40\n1215 2017-08-29       46.46\n1216 2017-08-30       45.96\n1217 2017-08-31       47.26\n\n[1218 rows x 2 columns]",
      "text/html": "<div>\n<style scoped>\n    .dataframe tbody tr th:only-of-type {\n        vertical-align: middle;\n    }\n\n    .dataframe tbody tr th {\n        vertical-align: top;\n    }\n\n    .dataframe thead th {\n        text-align: right;\n    }\n</style>\n<table border=\"1\" class=\"dataframe\">\n  <thead>\n    <tr style=\"text-align: right;\">\n      <th></th>\n      <th>date</th>\n      <th>dcoilwtico</th>\n    </tr>\n  </thead>\n  <tbody>\n    <tr>\n      <th>0</th>\n      <td>2013-01-01</td>\n      <td>NaN</td>\n    </tr>\n    <tr>\n      <th>1</th>\n      <td>2013-01-02</td>\n      <td>93.14</td>\n    </tr>\n    <tr>\n      <th>2</th>\n      <td>2013-01-03</td>\n      <td>92.97</td>\n    </tr>\n    <tr>\n      <th>3</th>\n      <td>2013-01-04</td>\n      <td>93.12</td>\n    </tr>\n    <tr>\n      <th>4</th>\n      <td>2013-01-07</td>\n      <td>93.20</td>\n    </tr>\n    <tr>\n      <th>...</th>\n      <td>...</td>\n      <td>...</td>\n    </tr>\n    <tr>\n      <th>1213</th>\n      <td>2017-08-25</td>\n      <td>47.65</td>\n    </tr>\n    <tr>\n      <th>1214</th>\n      <td>2017-08-28</td>\n      <td>46.40</td>\n    </tr>\n    <tr>\n      <th>1215</th>\n      <td>2017-08-29</td>\n      <td>46.46</td>\n    </tr>\n    <tr>\n      <th>1216</th>\n      <td>2017-08-30</td>\n      <td>45.96</td>\n    </tr>\n    <tr>\n      <th>1217</th>\n      <td>2017-08-31</td>\n      <td>47.26</td>\n    </tr>\n  </tbody>\n</table>\n<p>1218 rows × 2 columns</p>\n</div>"
     },
     "execution_count": 9,
     "metadata": {},
     "output_type": "execute_result"
    }
   ],
   "source": [
    "oil"
   ],
   "metadata": {
    "collapsed": false,
    "ExecuteTime": {
     "end_time": "2025-03-28T02:33:18.515598500Z",
     "start_time": "2025-03-28T02:33:18.503390100Z"
    }
   },
   "id": "14b218c7f7f4815c"
  },
  {
   "cell_type": "code",
   "execution_count": 10,
   "outputs": [
    {
     "name": "stderr",
     "output_type": "stream",
     "text": [
      "C:\\Users\\faresaboagour\\AppData\\Local\\Temp\\ipykernel_18612\\96925069.py:1: FutureWarning: A value is trying to be set on a copy of a DataFrame or Series through chained assignment using an inplace method.\n",
      "The behavior will change in pandas 3.0. This inplace method will never work because the intermediate object on which we are setting values always behaves as a copy.\n",
      "\n",
      "For example, when doing 'df[col].method(value, inplace=True)', try using 'df.method({col: value}, inplace=True)' or df[col] = df[col].method(value) instead, to perform the operation inplace on the original object.\n",
      "\n",
      "\n",
      "  oil[\"dcoilwtico\"].fillna(method=\"ffill\", inplace=True)\n",
      "C:\\Users\\faresaboagour\\AppData\\Local\\Temp\\ipykernel_18612\\96925069.py:1: FutureWarning: Series.fillna with 'method' is deprecated and will raise in a future version. Use obj.ffill() or obj.bfill() instead.\n",
      "  oil[\"dcoilwtico\"].fillna(method=\"ffill\", inplace=True)\n"
     ]
    }
   ],
   "source": [
    "oil[\"dcoilwtico\"].fillna(method=\"ffill\", inplace=True)"
   ],
   "metadata": {
    "collapsed": false,
    "ExecuteTime": {
     "end_time": "2025-03-28T02:33:18.525968400Z",
     "start_time": "2025-03-28T02:33:18.513589600Z"
    }
   },
   "id": "608b7d74d3bc0b80"
  },
  {
   "cell_type": "markdown",
   "source": [
    "### Use backward fill method to fill the beginning missing values in oil data"
   ],
   "metadata": {
    "collapsed": false
   },
   "id": "4c19021069567830"
  },
  {
   "cell_type": "code",
   "execution_count": 11,
   "outputs": [
    {
     "name": "stderr",
     "output_type": "stream",
     "text": [
      "C:\\Users\\faresaboagour\\AppData\\Local\\Temp\\ipykernel_18612\\669572655.py:1: FutureWarning: A value is trying to be set on a copy of a DataFrame or Series through chained assignment using an inplace method.\n",
      "The behavior will change in pandas 3.0. This inplace method will never work because the intermediate object on which we are setting values always behaves as a copy.\n",
      "\n",
      "For example, when doing 'df[col].method(value, inplace=True)', try using 'df.method({col: value}, inplace=True)' or df[col] = df[col].method(value) instead, to perform the operation inplace on the original object.\n",
      "\n",
      "\n",
      "  oil[\"dcoilwtico\"].fillna(method=\"bfill\", inplace=True)\n",
      "C:\\Users\\faresaboagour\\AppData\\Local\\Temp\\ipykernel_18612\\669572655.py:1: FutureWarning: Series.fillna with 'method' is deprecated and will raise in a future version. Use obj.ffill() or obj.bfill() instead.\n",
      "  oil[\"dcoilwtico\"].fillna(method=\"bfill\", inplace=True)\n"
     ]
    }
   ],
   "source": [
    "oil[\"dcoilwtico\"].fillna(method=\"bfill\", inplace=True)"
   ],
   "metadata": {
    "collapsed": false,
    "ExecuteTime": {
     "end_time": "2025-03-28T02:33:18.606138200Z",
     "start_time": "2025-03-28T02:33:18.521851500Z"
    }
   },
   "id": "674d8aa636dc8444"
  },
  {
   "cell_type": "markdown",
   "source": [
    "## EDA"
   ],
   "metadata": {
    "collapsed": false
   },
   "id": "866e80caa8c3163e"
  },
  {
   "cell_type": "code",
   "execution_count": 12,
   "outputs": [
    {
     "data": {
      "text/plain": "              id       date  store_nbr                      family     sales  \\\n0              0 2013-01-01          1                  AUTOMOTIVE     0.000   \n1              1 2013-01-01          1                   BABY CARE     0.000   \n2              2 2013-01-01          1                      BEAUTY     0.000   \n3              3 2013-01-01          1                   BEVERAGES     0.000   \n4              4 2013-01-01          1                       BOOKS     0.000   \n...          ...        ...        ...                         ...       ...   \n3000883  3000883 2017-08-15          9                     POULTRY   438.133   \n3000884  3000884 2017-08-15          9              PREPARED FOODS   154.553   \n3000885  3000885 2017-08-15          9                     PRODUCE  2419.729   \n3000886  3000886 2017-08-15          9  SCHOOL AND OFFICE SUPPLIES   121.000   \n3000887  3000887 2017-08-15          9                     SEAFOOD    16.000   \n\n         onpromotion  \n0                  0  \n1                  0  \n2                  0  \n3                  0  \n4                  0  \n...              ...  \n3000883            0  \n3000884            1  \n3000885          148  \n3000886            8  \n3000887            0  \n\n[3000888 rows x 6 columns]",
      "text/html": "<div>\n<style scoped>\n    .dataframe tbody tr th:only-of-type {\n        vertical-align: middle;\n    }\n\n    .dataframe tbody tr th {\n        vertical-align: top;\n    }\n\n    .dataframe thead th {\n        text-align: right;\n    }\n</style>\n<table border=\"1\" class=\"dataframe\">\n  <thead>\n    <tr style=\"text-align: right;\">\n      <th></th>\n      <th>id</th>\n      <th>date</th>\n      <th>store_nbr</th>\n      <th>family</th>\n      <th>sales</th>\n      <th>onpromotion</th>\n    </tr>\n  </thead>\n  <tbody>\n    <tr>\n      <th>0</th>\n      <td>0</td>\n      <td>2013-01-01</td>\n      <td>1</td>\n      <td>AUTOMOTIVE</td>\n      <td>0.000</td>\n      <td>0</td>\n    </tr>\n    <tr>\n      <th>1</th>\n      <td>1</td>\n      <td>2013-01-01</td>\n      <td>1</td>\n      <td>BABY CARE</td>\n      <td>0.000</td>\n      <td>0</td>\n    </tr>\n    <tr>\n      <th>2</th>\n      <td>2</td>\n      <td>2013-01-01</td>\n      <td>1</td>\n      <td>BEAUTY</td>\n      <td>0.000</td>\n      <td>0</td>\n    </tr>\n    <tr>\n      <th>3</th>\n      <td>3</td>\n      <td>2013-01-01</td>\n      <td>1</td>\n      <td>BEVERAGES</td>\n      <td>0.000</td>\n      <td>0</td>\n    </tr>\n    <tr>\n      <th>4</th>\n      <td>4</td>\n      <td>2013-01-01</td>\n      <td>1</td>\n      <td>BOOKS</td>\n      <td>0.000</td>\n      <td>0</td>\n    </tr>\n    <tr>\n      <th>...</th>\n      <td>...</td>\n      <td>...</td>\n      <td>...</td>\n      <td>...</td>\n      <td>...</td>\n      <td>...</td>\n    </tr>\n    <tr>\n      <th>3000883</th>\n      <td>3000883</td>\n      <td>2017-08-15</td>\n      <td>9</td>\n      <td>POULTRY</td>\n      <td>438.133</td>\n      <td>0</td>\n    </tr>\n    <tr>\n      <th>3000884</th>\n      <td>3000884</td>\n      <td>2017-08-15</td>\n      <td>9</td>\n      <td>PREPARED FOODS</td>\n      <td>154.553</td>\n      <td>1</td>\n    </tr>\n    <tr>\n      <th>3000885</th>\n      <td>3000885</td>\n      <td>2017-08-15</td>\n      <td>9</td>\n      <td>PRODUCE</td>\n      <td>2419.729</td>\n      <td>148</td>\n    </tr>\n    <tr>\n      <th>3000886</th>\n      <td>3000886</td>\n      <td>2017-08-15</td>\n      <td>9</td>\n      <td>SCHOOL AND OFFICE SUPPLIES</td>\n      <td>121.000</td>\n      <td>8</td>\n    </tr>\n    <tr>\n      <th>3000887</th>\n      <td>3000887</td>\n      <td>2017-08-15</td>\n      <td>9</td>\n      <td>SEAFOOD</td>\n      <td>16.000</td>\n      <td>0</td>\n    </tr>\n  </tbody>\n</table>\n<p>3000888 rows × 6 columns</p>\n</div>"
     },
     "execution_count": 12,
     "metadata": {},
     "output_type": "execute_result"
    }
   ],
   "source": [
    "train"
   ],
   "metadata": {
    "collapsed": false,
    "ExecuteTime": {
     "end_time": "2025-03-28T02:33:18.607143Z",
     "start_time": "2025-03-28T02:33:18.531367400Z"
    }
   },
   "id": "2ad62be4d1a546d6"
  },
  {
   "cell_type": "markdown",
   "source": [
    "### Sales over time"
   ],
   "metadata": {
    "collapsed": false
   },
   "id": "9eaf7d2c7a41f539"
  },
  {
   "cell_type": "code",
   "execution_count": 13,
   "outputs": [
    {
     "data": {
      "text/plain": "<Figure size 640x480 with 1 Axes>",
      "image/png": "[encoded data removed]"
     },
     "metadata": {},
     "output_type": "display_data"
    }
   ],
   "source": [
    "sales_over_time = train.groupby('date')['sales'].sum()\n",
    "plt.plot(sales_over_time)\n",
    "plt.show()"
   ],
   "metadata": {
    "collapsed": false,
    "ExecuteTime": {
     "end_time": "2025-03-28T02:33:18.911383500Z",
     "start_time": "2025-03-28T02:33:18.544429700Z"
    }
   },
   "id": "999dfa2cbf78ba60"
  },
  {
   "cell_type": "markdown",
   "source": [
    "### Sales by day"
   ],
   "metadata": {
    "collapsed": false
   },
   "id": "1bf1436f3e3864c8"
  },
  {
   "cell_type": "code",
   "execution_count": 14,
   "outputs": [
    {
     "data": {
      "text/plain": "<Figure size 640x480 with 1 Axes>",
      "image/png": "[encoded data removed]"
     },
     "metadata": {},
     "output_type": "display_data"
    }
   ],
   "source": [
    "train[\"day\"] = train[\"date\"].dt.dayofweek\n",
    "daily_sales = train.groupby(\"day\")[\"sales\"].sum()\n",
    "plt.bar(daily_sales.index, daily_sales.values)\n",
    "plt.xticks(range(7), [\"Mon\", \"Tue\", \"Wed\", \"Thu\", \"Fri\", \"Sat\", \"Sun\"])\n",
    "plt.show()"
   ],
   "metadata": {
    "collapsed": false,
    "ExecuteTime": {
     "end_time": "2025-03-28T02:33:19.343637Z",
     "start_time": "2025-03-28T02:33:18.913897400Z"
    }
   },
   "id": "a16f22df8afa5706"
  },
  {
   "cell_type": "markdown",
   "source": [
    "### Sales distribution by product family"
   ],
   "metadata": {
    "collapsed": false
   },
   "id": "2adbb1f0bc09e862"
  },
  {
   "cell_type": "code",
   "execution_count": 15,
   "outputs": [
    {
     "data": {
      "text/plain": "<Figure size 2000x1000 with 1 Axes>",
      "image/png": "[encoded data removed]"
     },
     "metadata": {},
     "output_type": "display_data"
    }
   ],
   "source": [
    "top_families = train.groupby(\"family\")[\"sales\"].sum().sort_values(ascending=False)[:20]\n",
    "plt.figure(figsize=(20, 10))\n",
    "sns.barplot(y=top_families.index, x=top_families.values)\n",
    "plt.xticks(rotation=90)\n",
    "plt.show()"
   ],
   "metadata": {
    "collapsed": false,
    "ExecuteTime": {
     "end_time": "2025-03-28T02:33:19.814352600Z",
     "start_time": "2025-03-28T02:33:19.343637Z"
    }
   },
   "id": "2caf589b7d693dac"
  },
  {
   "cell_type": "markdown",
   "source": [
    "## Merge holiday data with train data"
   ],
   "metadata": {
    "collapsed": false
   },
   "id": "55581247a900fb99"
  },
  {
   "cell_type": "code",
   "execution_count": 16,
   "outputs": [],
   "source": [
    "train_df = pd.merge(train, holidays, how=\"left\", on=\"date\")"
   ],
   "metadata": {
    "collapsed": false,
    "ExecuteTime": {
     "end_time": "2025-03-28T02:33:20.510063Z",
     "start_time": "2025-03-28T02:33:19.814352600Z"
    }
   },
   "id": "92ebe30941a038ae"
  },
  {
   "cell_type": "markdown",
   "source": [
    "### Analyze sales impact by holiday type"
   ],
   "metadata": {
    "collapsed": false
   },
   "id": "4674e70ced7832bf"
  },
  {
   "cell_type": "code",
   "execution_count": 17,
   "outputs": [
    {
     "data": {
      "text/plain": "<Figure size 640x480 with 1 Axes>",
      "image/png": "[encoded data removed]"
     },
     "metadata": {},
     "output_type": "display_data"
    }
   ],
   "source": [
    "train_df[\"is_holiday\"] = train[\"date\"].isin(holidays[\"date\"])\n",
    "holiday_sales = train_df.groupby(\"is_holiday\")[\"sales\"].mean()\n",
    "sns.barplot(x=holiday_sales.index, y=holiday_sales.values)\n",
    "plt.show()"
   ],
   "metadata": {
    "collapsed": false,
    "ExecuteTime": {
     "end_time": "2025-03-28T02:33:20.977566800Z",
     "start_time": "2025-03-28T02:33:20.512571500Z"
    }
   },
   "id": "997bf06fbd4e93a8"
  },
  {
   "cell_type": "markdown",
   "source": [
    "### Analyze sales impact by holiday type"
   ],
   "metadata": {
    "collapsed": false
   },
   "id": "a7f33f7b9f67479c"
  },
  {
   "cell_type": "code",
   "execution_count": 18,
   "outputs": [
    {
     "data": {
      "text/plain": "<Figure size 640x480 with 1 Axes>",
      "image/png": "[encoded data removed]"
     },
     "metadata": {},
     "output_type": "display_data"
    }
   ],
   "source": [
    "holiday_type_sales = train_df.groupby(\"type\")[\"sales\"].mean()\n",
    "sns.barplot(holiday_type_sales)\n",
    "plt.show()"
   ],
   "metadata": {
    "collapsed": false,
    "ExecuteTime": {
     "end_time": "2025-03-28T02:33:21.235559700Z",
     "start_time": "2025-03-28T02:33:20.977566800Z"
    }
   },
   "id": "842697501a381e5e"
  },
  {
   "cell_type": "markdown",
   "source": [
    "### Merge oil data with sales"
   ],
   "metadata": {
    "collapsed": false
   },
   "id": "8d2cf9a107ff6922"
  },
  {
   "cell_type": "code",
   "execution_count": 19,
   "outputs": [
    {
     "data": {
      "text/plain": "              id       date  store_nbr                      family     sales  \\\n0              0 2013-01-01          1                  AUTOMOTIVE     0.000   \n1              1 2013-01-01          1                   BABY CARE     0.000   \n2              2 2013-01-01          1                      BEAUTY     0.000   \n3              3 2013-01-01          1                   BEVERAGES     0.000   \n4              4 2013-01-01          1                       BOOKS     0.000   \n...          ...        ...        ...                         ...       ...   \n3054343  3000883 2017-08-15          9                     POULTRY   438.133   \n3054344  3000884 2017-08-15          9              PREPARED FOODS   154.553   \n3054345  3000885 2017-08-15          9                     PRODUCE  2419.729   \n3054346  3000886 2017-08-15          9  SCHOOL AND OFFICE SUPPLIES   121.000   \n3054347  3000887 2017-08-15          9                     SEAFOOD    16.000   \n\n         onpromotion  day     type    locale locale_name  \\\n0                  0    1  Holiday  National     Ecuador   \n1                  0    1  Holiday  National     Ecuador   \n2                  0    1  Holiday  National     Ecuador   \n3                  0    1  Holiday  National     Ecuador   \n4                  0    1  Holiday  National     Ecuador   \n...              ...  ...      ...       ...         ...   \n3054343            0    1  Holiday     Local    Riobamba   \n3054344            1    1  Holiday     Local    Riobamba   \n3054345          148    1  Holiday     Local    Riobamba   \n3054346            8    1  Holiday     Local    Riobamba   \n3054347            0    1  Holiday     Local    Riobamba   \n\n                   description transferred is_holiday  dcoilwtico  \n0           Primer dia del ano       False       True       93.14  \n1           Primer dia del ano       False       True       93.14  \n2           Primer dia del ano       False       True       93.14  \n3           Primer dia del ano       False       True       93.14  \n4           Primer dia del ano       False       True       93.14  \n...                        ...         ...        ...         ...  \n3054343  Fundacion de Riobamba       False        NaN       47.57  \n3054344  Fundacion de Riobamba       False        NaN       47.57  \n3054345  Fundacion de Riobamba       False        NaN       47.57  \n3054346  Fundacion de Riobamba       False        NaN       47.57  \n3054347  Fundacion de Riobamba       False        NaN       47.57  \n\n[3054348 rows x 14 columns]",
      "text/html": "<div>\n<style scoped>\n    .dataframe tbody tr th:only-of-type {\n        vertical-align: middle;\n    }\n\n    .dataframe tbody tr th {\n        vertical-align: top;\n    }\n\n    .dataframe thead th {\n        text-align: right;\n    }\n</style>\n<table border=\"1\" class=\"dataframe\">\n  <thead>\n    <tr style=\"text-align: right;\">\n      <th></th>\n      <th>id</th>\n      <th>date</th>\n      <th>store_nbr</th>\n      <th>family</th>\n      <th>sales</th>\n      <th>onpromotion</th>\n      <th>day</th>\n      <th>type</th>\n      <th>locale</th>\n      <th>locale_name</th>\n      <th>description</th>\n      <th>transferred</th>\n      <th>is_holiday</th>\n      <th>dcoilwtico</th>\n    </tr>\n  </thead>\n  <tbody>\n    <tr>\n      <th>0</th>\n      <td>0</td>\n      <td>2013-01-01</td>\n      <td>1</td>\n      <td>AUTOMOTIVE</td>\n      <td>0.000</td>\n      <td>0</td>\n      <td>1</td>\n      <td>Holiday</td>\n      <td>National</td>\n      <td>Ecuador</td>\n      <td>Primer dia del ano</td>\n      <td>False</td>\n      <td>True</td>\n      <td>93.14</td>\n    </tr>\n    <tr>\n      <th>1</th>\n      <td>1</td>\n      <td>2013-01-01</td>\n      <td>1</td>\n      <td>BABY CARE</td>\n      <td>0.000</td>\n      <td>0</td>\n      <td>1</td>\n      <td>Holiday</td>\n      <td>National</td>\n      <td>Ecuador</td>\n      <td>Primer dia del ano</td>\n      <td>False</td>\n      <td>True</td>\n      <td>93.14</td>\n    </tr>\n    <tr>\n      <th>2</th>\n      <td>2</td>\n      <td>2013-01-01</td>\n      <td>1</td>\n      <td>BEAUTY</td>\n      <td>0.000</td>\n      <td>0</td>\n      <td>1</td>\n      <td>Holiday</td>\n      <td>National</td>\n      <td>Ecuador</td>\n      <td>Primer dia del ano</td>\n      <td>False</td>\n      <td>True</td>\n      <td>93.14</td>\n    </tr>\n    <tr>\n      <th>3</th>\n      <td>3</td>\n      <td>2013-01-01</td>\n      <td>1</td>\n      <td>BEVERAGES</td>\n      <td>0.000</td>\n      <td>0</td>\n      <td>1</td>\n      <td>Holiday</td>\n      <td>National</td>\n      <td>Ecuador</td>\n      <td>Primer dia del ano</td>\n      <td>False</td>\n      <td>True</td>\n      <td>93.14</td>\n    </tr>\n    <tr>\n      <th>4</th>\n      <td>4</td>\n      <td>2013-01-01</td>\n      <td>1</td>\n      <td>BOOKS</td>\n      <td>0.000</td>\n      <td>0</td>\n      <td>1</td>\n      <td>Holiday</td>\n      <td>National</td>\n      <td>Ecuador</td>\n      <td>Primer dia del ano</td>\n      <td>False</td>\n      <td>True</td>\n      <td>93.14</td>\n    </tr>\n    <tr>\n      <th>...</th>\n      <td>...</td>\n      <td>...</td>\n      <td>...</td>\n      <td>...</td>\n      <td>...</td>\n      <td>...</td>\n      <td>...</td>\n      <td>...</td>\n      <td>...</td>\n      <td>...</td>\n      <td>...</td>\n      <td>...</td>\n      <td>...</td>\n      <td>...</td>\n    </tr>\n    <tr>\n      <th>3054343</th>\n      <td>3000883</td>\n      <td>2017-08-15</td>\n      <td>9</td>\n      <td>POULTRY</td>\n      <td>438.133</td>\n      <td>0</td>\n      <td>1</td>\n      <td>Holiday</td>\n      <td>Local</td>\n      <td>Riobamba</td>\n      <td>Fundacion de Riobamba</td>\n      <td>False</td>\n      <td>NaN</td>\n      <td>47.57</td>\n    </tr>\n    <tr>\n      <th>3054344</th>\n      <td>3000884</td>\n      <td>2017-08-15</td>\n      <td>9</td>\n      <td>PREPARED FOODS</td>\n      <td>154.553</td>\n      <td>1</td>\n      <td>1</td>\n      <td>Holiday</td>\n      <td>Local</td>\n      <td>Riobamba</td>\n      <td>Fundacion de Riobamba</td>\n      <td>False</td>\n      <td>NaN</td>\n      <td>47.57</td>\n    </tr>\n    <tr>\n      <th>3054345</th>\n      <td>3000885</td>\n      <td>2017-08-15</td>\n      <td>9</td>\n      <td>PRODUCE</td>\n      <td>2419.729</td>\n      <td>148</td>\n      <td>1</td>\n      <td>Holiday</td>\n      <td>Local</td>\n      <td>Riobamba</td>\n      <td>Fundacion de Riobamba</td>\n      <td>False</td>\n      <td>NaN</td>\n      <td>47.57</td>\n    </tr>\n    <tr>\n      <th>3054346</th>\n      <td>3000886</td>\n      <td>2017-08-15</td>\n      <td>9</td>\n      <td>SCHOOL AND OFFICE SUPPLIES</td>\n      <td>121.000</td>\n      <td>8</td>\n      <td>1</td>\n      <td>Holiday</td>\n      <td>Local</td>\n      <td>Riobamba</td>\n      <td>Fundacion de Riobamba</td>\n      <td>False</td>\n      <td>NaN</td>\n      <td>47.57</td>\n    </tr>\n    <tr>\n      <th>3054347</th>\n      <td>3000887</td>\n      <td>2017-08-15</td>\n      <td>9</td>\n      <td>SEAFOOD</td>\n      <td>16.000</td>\n      <td>0</td>\n      <td>1</td>\n      <td>Holiday</td>\n      <td>Local</td>\n      <td>Riobamba</td>\n      <td>Fundacion de Riobamba</td>\n      <td>False</td>\n      <td>NaN</td>\n      <td>47.57</td>\n    </tr>\n  </tbody>\n</table>\n<p>3054348 rows × 14 columns</p>\n</div>"
     },
     "execution_count": 19,
     "metadata": {},
     "output_type": "execute_result"
    }
   ],
   "source": [
    "train_df = pd.merge(train_df, oil, how=\"left\", on=\"date\")\n",
    "train_df"
   ],
   "metadata": {
    "collapsed": false,
    "ExecuteTime": {
     "end_time": "2025-03-28T02:33:21.703796700Z",
     "start_time": "2025-03-28T02:33:21.235559700Z"
    }
   },
   "id": "4622709f32506ead"
  },
  {
   "cell_type": "markdown",
   "source": [
    "### Oil prices over time"
   ],
   "metadata": {
    "collapsed": false
   },
   "id": "7223515b1289e05e"
  },
  {
   "cell_type": "code",
   "execution_count": 20,
   "outputs": [
    {
     "data": {
      "text/plain": "<Figure size 640x480 with 1 Axes>",
      "image/png": "[encoded data removed]"
     },
     "metadata": {},
     "output_type": "display_data"
    }
   ],
   "source": [
    "oil.plot(x=\"date\", y=\"dcoilwtico\")\n",
    "plt.show()"
   ],
   "metadata": {
    "collapsed": false,
    "ExecuteTime": {
     "end_time": "2025-03-28T02:33:22.113452100Z",
     "start_time": "2025-03-28T02:33:21.703796700Z"
    }
   },
   "id": "d582c85ed3fd4b06"
  },
  {
   "cell_type": "markdown",
   "source": [
    "### Merge stores data with sales data"
   ],
   "metadata": {
    "collapsed": false
   },
   "id": "6009e45b377a0feb"
  },
  {
   "cell_type": "code",
   "execution_count": 21,
   "outputs": [
    {
     "data": {
      "text/plain": "              id       date  store_nbr                      family     sales  \\\n0              0 2013-01-01          1                  AUTOMOTIVE     0.000   \n1              1 2013-01-01          1                   BABY CARE     0.000   \n2              2 2013-01-01          1                      BEAUTY     0.000   \n3              3 2013-01-01          1                   BEVERAGES     0.000   \n4              4 2013-01-01          1                       BOOKS     0.000   \n...          ...        ...        ...                         ...       ...   \n3054343  3000883 2017-08-15          9                     POULTRY   438.133   \n3054344  3000884 2017-08-15          9              PREPARED FOODS   154.553   \n3054345  3000885 2017-08-15          9                     PRODUCE  2419.729   \n3054346  3000886 2017-08-15          9  SCHOOL AND OFFICE SUPPLIES   121.000   \n3054347  3000887 2017-08-15          9                     SEAFOOD    16.000   \n\n         onpromotion  day   type_x    locale locale_name  \\\n0                  0    1  Holiday  National     Ecuador   \n1                  0    1  Holiday  National     Ecuador   \n2                  0    1  Holiday  National     Ecuador   \n3                  0    1  Holiday  National     Ecuador   \n4                  0    1  Holiday  National     Ecuador   \n...              ...  ...      ...       ...         ...   \n3054343            0    1  Holiday     Local    Riobamba   \n3054344            1    1  Holiday     Local    Riobamba   \n3054345          148    1  Holiday     Local    Riobamba   \n3054346            8    1  Holiday     Local    Riobamba   \n3054347            0    1  Holiday     Local    Riobamba   \n\n                   description transferred is_holiday  dcoilwtico   city  \\\n0           Primer dia del ano       False       True       93.14  Quito   \n1           Primer dia del ano       False       True       93.14  Quito   \n2           Primer dia del ano       False       True       93.14  Quito   \n3           Primer dia del ano       False       True       93.14  Quito   \n4           Primer dia del ano       False       True       93.14  Quito   \n...                        ...         ...        ...         ...    ...   \n3054343  Fundacion de Riobamba       False        NaN       47.57  Quito   \n3054344  Fundacion de Riobamba       False        NaN       47.57  Quito   \n3054345  Fundacion de Riobamba       False        NaN       47.57  Quito   \n3054346  Fundacion de Riobamba       False        NaN       47.57  Quito   \n3054347  Fundacion de Riobamba       False        NaN       47.57  Quito   \n\n             state type_y  cluster  \n0        Pichincha      D       13  \n1        Pichincha      D       13  \n2        Pichincha      D       13  \n3        Pichincha      D       13  \n4        Pichincha      D       13  \n...            ...    ...      ...  \n3054343  Pichincha      B        6  \n3054344  Pichincha      B        6  \n3054345  Pichincha      B        6  \n3054346  Pichincha      B        6  \n3054347  Pichincha      B        6  \n\n[3054348 rows x 18 columns]",
      "text/html": "<div>\n<style scoped>\n    .dataframe tbody tr th:only-of-type {\n        vertical-align: middle;\n    }\n\n    .dataframe tbody tr th {\n        vertical-align: top;\n    }\n\n    .dataframe thead th {\n        text-align: right;\n    }\n</style>\n<table border=\"1\" class=\"dataframe\">\n  <thead>\n    <tr style=\"text-align: right;\">\n      <th></th>\n      <th>id</th>\n      <th>date</th>\n      <th>store_nbr</th>\n      <th>family</th>\n      <th>sales</th>\n      <th>onpromotion</th>\n      <th>day</th>\n      <th>type_x</th>\n      <th>locale</th>\n      <th>locale_name</th>\n      <th>description</th>\n      <th>transferred</th>\n      <th>is_holiday</th>\n      <th>dcoilwtico</th>\n      <th>city</th>\n      <th>state</th>\n      <th>type_y</th>\n      <th>cluster</th>\n    </tr>\n  </thead>\n  <tbody>\n    <tr>\n      <th>0</th>\n      <td>0</td>\n      <td>2013-01-01</td>\n      <td>1</td>\n      <td>AUTOMOTIVE</td>\n      <td>0.000</td>\n      <td>0</td>\n      <td>1</td>\n      <td>Holiday</td>\n      <td>National</td>\n      <td>Ecuador</td>\n      <td>Primer dia del ano</td>\n      <td>False</td>\n      <td>True</td>\n      <td>93.14</td>\n      <td>Quito</td>\n      <td>Pichincha</td>\n      <td>D</td>\n      <td>13</td>\n    </tr>\n    <tr>\n      <th>1</th>\n      <td>1</td>\n      <td>2013-01-01</td>\n      <td>1</td>\n      <td>BABY CARE</td>\n      <td>0.000</td>\n      <td>0</td>\n      <td>1</td>\n      <td>Holiday</td>\n      <td>National</td>\n      <td>Ecuador</td>\n      <td>Primer dia del ano</td>\n      <td>False</td>\n      <td>True</td>\n      <td>93.14</td>\n      <td>Quito</td>\n      <td>Pichincha</td>\n      <td>D</td>\n      <td>13</td>\n    </tr>\n    <tr>\n      <th>2</th>\n      <td>2</td>\n      <td>2013-01-01</td>\n      <td>1</td>\n      <td>BEAUTY</td>\n      <td>0.000</td>\n      <td>0</td>\n      <td>1</td>\n      <td>Holiday</td>\n      <td>National</td>\n      <td>Ecuador</td>\n      <td>Primer dia del ano</td>\n      <td>False</td>\n      <td>True</td>\n      <td>93.14</td>\n      <td>Quito</td>\n      <td>Pichincha</td>\n      <td>D</td>\n      <td>13</td>\n    </tr>\n    <tr>\n      <th>3</th>\n      <td>3</td>\n      <td>2013-01-01</td>\n      <td>1</td>\n      <td>BEVERAGES</td>\n      <td>0.000</td>\n      <td>0</td>\n      <td>1</td>\n      <td>Holiday</td>\n      <td>National</td>\n      <td>Ecuador</td>\n      <td>Primer dia del ano</td>\n      <td>False</td>\n      <td>True</td>\n      <td>93.14</td>\n      <td>Quito</td>\n      <td>Pichincha</td>\n      <td>D</td>\n      <td>13</td>\n    </tr>\n    <tr>\n      <th>4</th>\n      <td>4</td>\n      <td>2013-01-01</td>\n      <td>1</td>\n      <td>BOOKS</td>\n      <td>0.000</td>\n      <td>0</td>\n      <td>1</td>\n      <td>Holiday</td>\n      <td>National</td>\n      <td>Ecuador</td>\n      <td>Primer dia del ano</td>\n      <td>False</td>\n      <td>True</td>\n      <td>93.14</td>\n      <td>Quito</td>\n      <td>Pichincha</td>\n      <td>D</td>\n      <td>13</td>\n    </tr>\n    <tr>\n      <th>...</th>\n      <td>...</td>\n      <td>...</td>\n      <td>...</td>\n      <td>...</td>\n      <td>...</td>\n      <td>...</td>\n      <td>...</td>\n      <td>...</td>\n      <td>...</td>\n      <td>...</td>\n      <td>...</td>\n      <td>...</td>\n      <td>...</td>\n      <td>...</td>\n      <td>...</td>\n      <td>...</td>\n      <td>...</td>\n      <td>...</td>\n    </tr>\n    <tr>\n      <th>3054343</th>\n      <td>3000883</td>\n      <td>2017-08-15</td>\n      <td>9</td>\n      <td>POULTRY</td>\n      <td>438.133</td>\n      <td>0</td>\n      <td>1</td>\n      <td>Holiday</td>\n      <td>Local</td>\n      <td>Riobamba</td>\n      <td>Fundacion de Riobamba</td>\n      <td>False</td>\n      <td>NaN</td>\n      <td>47.57</td>\n      <td>Quito</td>\n      <td>Pichincha</td>\n      <td>B</td>\n      <td>6</td>\n    </tr>\n    <tr>\n      <th>3054344</th>\n      <td>3000884</td>\n      <td>2017-08-15</td>\n      <td>9</td>\n      <td>PREPARED FOODS</td>\n      <td>154.553</td>\n      <td>1</td>\n      <td>1</td>\n      <td>Holiday</td>\n      <td>Local</td>\n      <td>Riobamba</td>\n      <td>Fundacion de Riobamba</td>\n      <td>False</td>\n      <td>NaN</td>\n      <td>47.57</td>\n      <td>Quito</td>\n      <td>Pichincha</td>\n      <td>B</td>\n      <td>6</td>\n    </tr>\n    <tr>\n      <th>3054345</th>\n      <td>3000885</td>\n      <td>2017-08-15</td>\n      <td>9</td>\n      <td>PRODUCE</td>\n      <td>2419.729</td>\n      <td>148</td>\n      <td>1</td>\n      <td>Holiday</td>\n      <td>Local</td>\n      <td>Riobamba</td>\n      <td>Fundacion de Riobamba</td>\n      <td>False</td>\n      <td>NaN</td>\n      <td>47.57</td>\n      <td>Quito</td>\n      <td>Pichincha</td>\n      <td>B</td>\n      <td>6</td>\n    </tr>\n    <tr>\n      <th>3054346</th>\n      <td>3000886</td>\n      <td>2017-08-15</td>\n      <td>9</td>\n      <td>SCHOOL AND OFFICE SUPPLIES</td>\n      <td>121.000</td>\n      <td>8</td>\n      <td>1</td>\n      <td>Holiday</td>\n      <td>Local</td>\n      <td>Riobamba</td>\n      <td>Fundacion de Riobamba</td>\n      <td>False</td>\n      <td>NaN</td>\n      <td>47.57</td>\n      <td>Quito</td>\n      <td>Pichincha</td>\n      <td>B</td>\n      <td>6</td>\n    </tr>\n    <tr>\n      <th>3054347</th>\n      <td>3000887</td>\n      <td>2017-08-15</td>\n      <td>9</td>\n      <td>SEAFOOD</td>\n      <td>16.000</td>\n      <td>0</td>\n      <td>1</td>\n      <td>Holiday</td>\n      <td>Local</td>\n      <td>Riobamba</td>\n      <td>Fundacion de Riobamba</td>\n      <td>False</td>\n      <td>NaN</td>\n      <td>47.57</td>\n      <td>Quito</td>\n      <td>Pichincha</td>\n      <td>B</td>\n      <td>6</td>\n    </tr>\n  </tbody>\n</table>\n<p>3054348 rows × 18 columns</p>\n</div>"
     },
     "execution_count": 21,
     "metadata": {},
     "output_type": "execute_result"
    }
   ],
   "source": [
    "train_df = pd.merge(train_df, stores, how=\"left\", on=\"store_nbr\")\n",
    "train_df"
   ],
   "metadata": {
    "collapsed": false,
    "ExecuteTime": {
     "end_time": "2025-03-28T02:33:22.585706700Z",
     "start_time": "2025-03-28T02:33:22.112443500Z"
    }
   },
   "id": "d9f59edebcbb7ae5"
  },
  {
   "cell_type": "markdown",
   "source": [
    "### Analyze sales impact by store type"
   ],
   "metadata": {
    "collapsed": false
   },
   "id": "8e06b40c092c08f3"
  },
  {
   "cell_type": "code",
   "execution_count": 22,
   "outputs": [
    {
     "data": {
      "text/plain": "<Figure size 640x480 with 1 Axes>",
      "image/png": "[encoded data removed]"
     },
     "metadata": {},
     "output_type": "display_data"
    }
   ],
   "source": [
    "sales_type = train_df.groupby(\"type_y\")[\"sales\"].mean()\n",
    "sns.barplot(sales_type)\n",
    "plt.show()"
   ],
   "metadata": {
    "collapsed": false,
    "ExecuteTime": {
     "end_time": "2025-03-28T02:33:22.888649300Z",
     "start_time": "2025-03-28T02:33:22.583181600Z"
    }
   },
   "id": "16e4cd97909e6e14"
  },
  {
   "cell_type": "markdown",
   "source": [
    "### Top 7 Cities with highest average sales"
   ],
   "metadata": {
    "collapsed": false
   },
   "id": "1eaed050aa25a500"
  },
  {
   "cell_type": "code",
   "execution_count": 23,
   "outputs": [
    {
     "data": {
      "text/plain": "<Figure size 640x480 with 1 Axes>",
      "image/png": "[encoded data removed]"
     },
     "metadata": {},
     "output_type": "display_data"
    }
   ],
   "source": [
    "top_cities = train_df.groupby(\"city\")[\"sales\"].mean().nlargest(7)\n",
    "sns.barplot(top_cities)\n",
    "plt.show()"
   ],
   "metadata": {
    "collapsed": false,
    "ExecuteTime": {
     "end_time": "2025-03-28T02:33:23.224403400Z",
     "start_time": "2025-03-28T02:33:22.887646100Z"
    }
   },
   "id": "f78a09fae1c95965"
  },
  {
   "cell_type": "markdown",
   "source": [
    "### Number of stores in top 7 city"
   ],
   "metadata": {
    "collapsed": false
   },
   "id": "c6b7fe80578c9a07"
  },
  {
   "cell_type": "code",
   "execution_count": 24,
   "outputs": [
    {
     "data": {
      "text/plain": "<Figure size 640x480 with 1 Axes>",
      "image/png": "[encoded data removed]"
     },
     "metadata": {},
     "output_type": "display_data"
    }
   ],
   "source": [
    "top_cities = train_df.groupby(\"city\")[\"store_nbr\"].nunique().nlargest(7)\n",
    "sns.barplot(top_cities)\n",
    "plt.show()"
   ],
   "metadata": {
    "collapsed": false,
    "ExecuteTime": {
     "end_time": "2025-03-28T02:33:23.648947300Z",
     "start_time": "2025-03-28T02:33:23.223938800Z"
    }
   },
   "id": "b8601cd6e8f7c06b"
  },
  {
   "cell_type": "markdown",
   "source": [
    "### Analyze family sales impact by city"
   ],
   "metadata": {
    "collapsed": false
   },
   "id": "f73ac6cdc7f16bc8"
  },
  {
   "cell_type": "code",
   "execution_count": 25,
   "outputs": [
    {
     "data": {
      "text/plain": "<Figure size 2000x1000 with 1 Axes>",
      "image/png": "[encoded data removed]"
     },
     "metadata": {},
     "output_type": "display_data"
    }
   ],
   "source": [
    "top_4_families = top_families[:4]\n",
    "filtered_data = train_df[\n",
    "    (train_df[\"city\"].isin(top_cities.index)) &\n",
    "    (train_df[\"family\"].isin(top_4_families.index))\n",
    "    ]\n",
    "\n",
    "families_sales_in_city = filtered_data.groupby([\"city\", \"family\"])[\"sales\"].sum().unstack()\n",
    "\n",
    "families_sales_in_city = families_sales_in_city.stack().reset_index(name='sales')\n",
    "\n",
    "plt.figure(figsize=(20, 10))\n",
    "sns.barplot(x=\"city\", y=\"sales\", hue=\"family\", data=families_sales_in_city)\n",
    "plt.title(\"Top 4 Families Sales in Top 7 Cities\")\n",
    "plt.xlabel(\"City\")\n",
    "plt.ylabel(\"Sales\")\n",
    "plt.xticks(rotation=45)\n",
    "plt.show()"
   ],
   "metadata": {
    "collapsed": false,
    "ExecuteTime": {
     "end_time": "2025-03-28T02:33:24.221169Z",
     "start_time": "2025-03-28T02:33:23.649879800Z"
    }
   },
   "id": "639ee6fa3e6d2261"
  },
  {
   "cell_type": "markdown",
   "source": [
    "### Top 5 City that sales oil prices"
   ],
   "metadata": {
    "collapsed": false
   },
   "id": "c5be3c578ea799f"
  },
  {
   "cell_type": "code",
   "execution_count": 26,
   "outputs": [
    {
     "data": {
      "text/plain": "<Figure size 640x480 with 1 Axes>",
      "image/png": "[encoded data removed]"
     },
     "metadata": {},
     "output_type": "display_data"
    }
   ],
   "source": [
    "oil_prices = train_df.groupby(\"city\")[\"dcoilwtico\"].mean().nlargest(5)\n",
    "sns.barplot(oil_prices)\n",
    "plt.show()"
   ],
   "metadata": {
    "collapsed": false,
    "ExecuteTime": {
     "end_time": "2025-03-28T02:33:24.540326900Z",
     "start_time": "2025-03-28T02:33:24.221169Z"
    }
   },
   "id": "7f7344a43bdd4d40"
  },
  {
   "cell_type": "markdown",
   "source": [
    "# Prepare full-data merged for modeling"
   ],
   "metadata": {
    "collapsed": false
   },
   "id": "2ffeb70adeb4d9e0"
  },
  {
   "cell_type": "code",
   "execution_count": 27,
   "outputs": [
    {
     "data": {
      "text/plain": "              id       date  store_nbr                      family     sales  \\\n0              0 2013-01-01          1                  AUTOMOTIVE     0.000   \n1              1 2013-01-01          1                   BABY CARE     0.000   \n2              2 2013-01-01          1                      BEAUTY     0.000   \n3              3 2013-01-01          1                   BEVERAGES     0.000   \n4              4 2013-01-01          1                       BOOKS     0.000   \n...          ...        ...        ...                         ...       ...   \n3054343  3000883 2017-08-15          9                     POULTRY   438.133   \n3054344  3000884 2017-08-15          9              PREPARED FOODS   154.553   \n3054345  3000885 2017-08-15          9                     PRODUCE  2419.729   \n3054346  3000886 2017-08-15          9  SCHOOL AND OFFICE SUPPLIES   121.000   \n3054347  3000887 2017-08-15          9                     SEAFOOD    16.000   \n\n         onpromotion  day   type_x    locale locale_name  \\\n0                  0    1  Holiday  National     Ecuador   \n1                  0    1  Holiday  National     Ecuador   \n2                  0    1  Holiday  National     Ecuador   \n3                  0    1  Holiday  National     Ecuador   \n4                  0    1  Holiday  National     Ecuador   \n...              ...  ...      ...       ...         ...   \n3054343            0    1  Holiday     Local    Riobamba   \n3054344            1    1  Holiday     Local    Riobamba   \n3054345          148    1  Holiday     Local    Riobamba   \n3054346            8    1  Holiday     Local    Riobamba   \n3054347            0    1  Holiday     Local    Riobamba   \n\n                   description transferred is_holiday  dcoilwtico   city  \\\n0           Primer dia del ano       False       True       93.14  Quito   \n1           Primer dia del ano       False       True       93.14  Quito   \n2           Primer dia del ano       False       True       93.14  Quito   \n3           Primer dia del ano       False       True       93.14  Quito   \n4           Primer dia del ano       False       True       93.14  Quito   \n...                        ...         ...        ...         ...    ...   \n3054343  Fundacion de Riobamba       False        NaN       47.57  Quito   \n3054344  Fundacion de Riobamba       False        NaN       47.57  Quito   \n3054345  Fundacion de Riobamba       False        NaN       47.57  Quito   \n3054346  Fundacion de Riobamba       False        NaN       47.57  Quito   \n3054347  Fundacion de Riobamba       False        NaN       47.57  Quito   \n\n             state type_y  cluster  \n0        Pichincha      D       13  \n1        Pichincha      D       13  \n2        Pichincha      D       13  \n3        Pichincha      D       13  \n4        Pichincha      D       13  \n...            ...    ...      ...  \n3054343  Pichincha      B        6  \n3054344  Pichincha      B        6  \n3054345  Pichincha      B        6  \n3054346  Pichincha      B        6  \n3054347  Pichincha      B        6  \n\n[3054348 rows x 18 columns]",
      "text/html": "<div>\n<style scoped>\n    .dataframe tbody tr th:only-of-type {\n        vertical-align: middle;\n    }\n\n    .dataframe tbody tr th {\n        vertical-align: top;\n    }\n\n    .dataframe thead th {\n        text-align: right;\n    }\n</style>\n<table border=\"1\" class=\"dataframe\">\n  <thead>\n    <tr style=\"text-align: right;\">\n      <th></th>\n      <th>id</th>\n      <th>date</th>\n      <th>store_nbr</th>\n      <th>family</th>\n      <th>sales</th>\n      <th>onpromotion</th>\n      <th>day</th>\n      <th>type_x</th>\n      <th>locale</th>\n      <th>locale_name</th>\n      <th>description</th>\n      <th>transferred</th>\n      <th>is_holiday</th>\n      <th>dcoilwtico</th>\n      <th>city</th>\n      <th>state</th>\n      <th>type_y</th>\n      <th>cluster</th>\n    </tr>\n  </thead>\n  <tbody>\n    <tr>\n      <th>0</th>\n      <td>0</td>\n      <td>2013-01-01</td>\n      <td>1</td>\n      <td>AUTOMOTIVE</td>\n      <td>0.000</td>\n      <td>0</td>\n      <td>1</td>\n      <td>Holiday</td>\n      <td>National</td>\n      <td>Ecuador</td>\n      <td>Primer dia del ano</td>\n      <td>False</td>\n      <td>True</td>\n      <td>93.14</td>\n      <td>Quito</td>\n      <td>Pichincha</td>\n      <td>D</td>\n      <td>13</td>\n    </tr>\n    <tr>\n      <th>1</th>\n      <td>1</td>\n      <td>2013-01-01</td>\n      <td>1</td>\n      <td>BABY CARE</td>\n      <td>0.000</td>\n      <td>0</td>\n      <td>1</td>\n      <td>Holiday</td>\n      <td>National</td>\n      <td>Ecuador</td>\n      <td>Primer dia del ano</td>\n      <td>False</td>\n      <td>True</td>\n      <td>93.14</td>\n      <td>Quito</td>\n      <td>Pichincha</td>\n      <td>D</td>\n      <td>13</td>\n    </tr>\n    <tr>\n      <th>2</th>\n      <td>2</td>\n      <td>2013-01-01</td>\n      <td>1</td>\n      <td>BEAUTY</td>\n      <td>0.000</td>\n      <td>0</td>\n      <td>1</td>\n      <td>Holiday</td>\n      <td>National</td>\n      <td>Ecuador</td>\n      <td>Primer dia del ano</td>\n      <td>False</td>\n      <td>True</td>\n      <td>93.14</td>\n      <td>Quito</td>\n      <td>Pichincha</td>\n      <td>D</td>\n      <td>13</td>\n    </tr>\n    <tr>\n      <th>3</th>\n      <td>3</td>\n      <td>2013-01-01</td>\n      <td>1</td>\n      <td>BEVERAGES</td>\n      <td>0.000</td>\n      <td>0</td>\n      <td>1</td>\n      <td>Holiday</td>\n      <td>National</td>\n      <td>Ecuador</td>\n      <td>Primer dia del ano</td>\n      <td>False</td>\n      <td>True</td>\n      <td>93.14</td>\n      <td>Quito</td>\n      <td>Pichincha</td>\n      <td>D</td>\n      <td>13</td>\n    </tr>\n    <tr>\n      <th>4</th>\n      <td>4</td>\n      <td>2013-01-01</td>\n      <td>1</td>\n      <td>BOOKS</td>\n      <td>0.000</td>\n      <td>0</td>\n      <td>1</td>\n      <td>Holiday</td>\n      <td>National</td>\n      <td>Ecuador</td>\n      <td>Primer dia del ano</td>\n      <td>False</td>\n      <td>True</td>\n      <td>93.14</td>\n      <td>Quito</td>\n      <td>Pichincha</td>\n      <td>D</td>\n      <td>13</td>\n    </tr>\n    <tr>\n      <th>...</th>\n      <td>...</td>\n      <td>...</td>\n      <td>...</td>\n      <td>...</td>\n      <td>...</td>\n      <td>...</td>\n      <td>...</td>\n      <td>...</td>\n      <td>...</td>\n      <td>...</td>\n      <td>...</td>\n      <td>...</td>\n      <td>...</td>\n      <td>...</td>\n      <td>...</td>\n      <td>...</td>\n      <td>...</td>\n      <td>...</td>\n    </tr>\n    <tr>\n      <th>3054343</th>\n      <td>3000883</td>\n      <td>2017-08-15</td>\n      <td>9</td>\n      <td>POULTRY</td>\n      <td>438.133</td>\n      <td>0</td>\n      <td>1</td>\n      <td>Holiday</td>\n      <td>Local</td>\n      <td>Riobamba</td>\n      <td>Fundacion de Riobamba</td>\n      <td>False</td>\n      <td>NaN</td>\n      <td>47.57</td>\n      <td>Quito</td>\n      <td>Pichincha</td>\n      <td>B</td>\n      <td>6</td>\n    </tr>\n    <tr>\n      <th>3054344</th>\n      <td>3000884</td>\n      <td>2017-08-15</td>\n      <td>9</td>\n      <td>PREPARED FOODS</td>\n      <td>154.553</td>\n      <td>1</td>\n      <td>1</td>\n      <td>Holiday</td>\n      <td>Local</td>\n      <td>Riobamba</td>\n      <td>Fundacion de Riobamba</td>\n      <td>False</td>\n      <td>NaN</td>\n      <td>47.57</td>\n      <td>Quito</td>\n      <td>Pichincha</td>\n      <td>B</td>\n      <td>6</td>\n    </tr>\n    <tr>\n      <th>3054345</th>\n      <td>3000885</td>\n      <td>2017-08-15</td>\n      <td>9</td>\n      <td>PRODUCE</td>\n      <td>2419.729</td>\n      <td>148</td>\n      <td>1</td>\n      <td>Holiday</td>\n      <td>Local</td>\n      <td>Riobamba</td>\n      <td>Fundacion de Riobamba</td>\n      <td>False</td>\n      <td>NaN</td>\n      <td>47.57</td>\n      <td>Quito</td>\n      <td>Pichincha</td>\n      <td>B</td>\n      <td>6</td>\n    </tr>\n    <tr>\n      <th>3054346</th>\n      <td>3000886</td>\n      <td>2017-08-15</td>\n      <td>9</td>\n      <td>SCHOOL AND OFFICE SUPPLIES</td>\n      <td>121.000</td>\n      <td>8</td>\n      <td>1</td>\n      <td>Holiday</td>\n      <td>Local</td>\n      <td>Riobamba</td>\n      <td>Fundacion de Riobamba</td>\n      <td>False</td>\n      <td>NaN</td>\n      <td>47.57</td>\n      <td>Quito</td>\n      <td>Pichincha</td>\n      <td>B</td>\n      <td>6</td>\n    </tr>\n    <tr>\n      <th>3054347</th>\n      <td>3000887</td>\n      <td>2017-08-15</td>\n      <td>9</td>\n      <td>SEAFOOD</td>\n      <td>16.000</td>\n      <td>0</td>\n      <td>1</td>\n      <td>Holiday</td>\n      <td>Local</td>\n      <td>Riobamba</td>\n      <td>Fundacion de Riobamba</td>\n      <td>False</td>\n      <td>NaN</td>\n      <td>47.57</td>\n      <td>Quito</td>\n      <td>Pichincha</td>\n      <td>B</td>\n      <td>6</td>\n    </tr>\n  </tbody>\n</table>\n<p>3054348 rows × 18 columns</p>\n</div>"
     },
     "execution_count": 27,
     "metadata": {},
     "output_type": "execute_result"
    }
   ],
   "source": [
    "train_df"
   ],
   "metadata": {
    "collapsed": false,
    "ExecuteTime": {
     "end_time": "2025-03-28T02:33:24.565998200Z",
     "start_time": "2025-03-28T02:33:24.545604300Z"
    }
   },
   "id": "a195e8803e48af86"
  },
  {
   "cell_type": "markdown",
   "source": [
    "## Handle missing values"
   ],
   "metadata": {
    "collapsed": false
   },
   "id": "306e5638210ffcce"
  },
  {
   "cell_type": "code",
   "execution_count": 28,
   "outputs": [
    {
     "data": {
      "text/plain": "id                   0\ndate                 0\nstore_nbr            0\nfamily               0\nsales                0\nonpromotion          0\nday                  0\ntype_x         2551824\nlocale         2551824\nlocale_name    2551824\ndescription    2551824\ntransferred    2551824\nis_holiday       53460\ndcoilwtico      878526\ncity                 0\nstate                0\ntype_y               0\ncluster              0\ndtype: int64"
     },
     "execution_count": 28,
     "metadata": {},
     "output_type": "execute_result"
    }
   ],
   "source": [
    "train_df.isna().sum()"
   ],
   "metadata": {
    "collapsed": false,
    "ExecuteTime": {
     "end_time": "2025-03-28T02:33:25.426207300Z",
     "start_time": "2025-03-28T02:33:24.562982500Z"
    }
   },
   "id": "b2d3eb5b3fca434c"
  },
  {
   "cell_type": "code",
   "execution_count": 29,
   "outputs": [
    {
     "data": {
      "text/plain": "id             0\ndate           0\nstore_nbr      0\nfamily         0\nsales          0\nonpromotion    0\nday            0\ndtype: int64"
     },
     "execution_count": 29,
     "metadata": {},
     "output_type": "execute_result"
    }
   ],
   "source": [
    "train.isna().sum()"
   ],
   "metadata": {
    "collapsed": false,
    "ExecuteTime": {
     "end_time": "2025-03-28T02:33:25.537904300Z",
     "start_time": "2025-03-28T02:33:25.425206800Z"
    }
   },
   "id": "3cc73fe36e8bdb1"
  },
  {
   "cell_type": "code",
   "execution_count": 30,
   "outputs": [
    {
     "data": {
      "text/plain": "id             0\ndate           0\nstore_nbr      0\nfamily         0\nonpromotion    0\ndtype: int64"
     },
     "execution_count": 30,
     "metadata": {},
     "output_type": "execute_result"
    }
   ],
   "source": [
    "test.isna().sum()"
   ],
   "metadata": {
    "collapsed": false,
    "ExecuteTime": {
     "end_time": "2025-03-28T02:33:25.546454200Z",
     "start_time": "2025-03-28T02:33:25.537904300Z"
    }
   },
   "id": "4e4aa35ae4e79966"
  },
  {
   "cell_type": "code",
   "execution_count": 31,
   "outputs": [
    {
     "name": "stderr",
     "output_type": "stream",
     "text": [
      "C:\\Users\\faresaboagour\\AppData\\Local\\Temp\\ipykernel_18612\\3486945156.py:1: FutureWarning: A value is trying to be set on a copy of a DataFrame or Series through chained assignment using an inplace method.\n",
      "The behavior will change in pandas 3.0. This inplace method will never work because the intermediate object on which we are setting values always behaves as a copy.\n",
      "\n",
      "For example, when doing 'df[col].method(value, inplace=True)', try using 'df.method({col: value}, inplace=True)' or df[col] = df[col].method(value) instead, to perform the operation inplace on the original object.\n",
      "\n",
      "\n",
      "  train_df[\"dcoilwtico\"].fillna(method=\"ffill\", inplace=True)\n",
      "C:\\Users\\faresaboagour\\AppData\\Local\\Temp\\ipykernel_18612\\3486945156.py:1: FutureWarning: Series.fillna with 'method' is deprecated and will raise in a future version. Use obj.ffill() or obj.bfill() instead.\n",
      "  train_df[\"dcoilwtico\"].fillna(method=\"ffill\", inplace=True)\n",
      "C:\\Users\\faresaboagour\\AppData\\Local\\Temp\\ipykernel_18612\\3486945156.py:2: FutureWarning: A value is trying to be set on a copy of a DataFrame or Series through chained assignment using an inplace method.\n",
      "The behavior will change in pandas 3.0. This inplace method will never work because the intermediate object on which we are setting values always behaves as a copy.\n",
      "\n",
      "For example, when doing 'df[col].method(value, inplace=True)', try using 'df.method({col: value}, inplace=True)' or df[col] = df[col].method(value) instead, to perform the operation inplace on the original object.\n",
      "\n",
      "\n",
      "  train_df[\"dcoilwtico\"].fillna(method=\"bfill\", inplace=True)\n",
      "C:\\Users\\faresaboagour\\AppData\\Local\\Temp\\ipykernel_18612\\3486945156.py:2: FutureWarning: Series.fillna with 'method' is deprecated and will raise in a future version. Use obj.ffill() or obj.bfill() instead.\n",
      "  train_df[\"dcoilwtico\"].fillna(method=\"bfill\", inplace=True)\n"
     ]
    }
   ],
   "source": [
    "train_df[\"dcoilwtico\"].fillna(method=\"ffill\", inplace=True)\n",
    "train_df[\"dcoilwtico\"].fillna(method=\"bfill\", inplace=True)"
   ],
   "metadata": {
    "collapsed": false,
    "ExecuteTime": {
     "end_time": "2025-03-28T02:33:25.611185600Z",
     "start_time": "2025-03-28T02:33:25.546454200Z"
    }
   },
   "id": "82782608d8349ef7"
  },
  {
   "cell_type": "code",
   "execution_count": 32,
   "outputs": [
    {
     "name": "stderr",
     "output_type": "stream",
     "text": [
      "C:\\Users\\faresaboagour\\AppData\\Local\\Temp\\ipykernel_18612\\4001582840.py:1: FutureWarning: A value is trying to be set on a copy of a DataFrame or Series through chained assignment using an inplace method.\n",
      "The behavior will change in pandas 3.0. This inplace method will never work because the intermediate object on which we are setting values always behaves as a copy.\n",
      "\n",
      "For example, when doing 'df[col].method(value, inplace=True)', try using 'df.method({col: value}, inplace=True)' or df[col] = df[col].method(value) instead, to perform the operation inplace on the original object.\n",
      "\n",
      "\n",
      "  train_df[\"is_holiday\"].fillna(train_df[\"is_holiday\"].mode()[0], inplace=True)\n",
      "C:\\Users\\faresaboagour\\AppData\\Local\\Temp\\ipykernel_18612\\4001582840.py:1: FutureWarning: Downcasting object dtype arrays on .fillna, .ffill, .bfill is deprecated and will change in a future version. Call result.infer_objects(copy=False) instead. To opt-in to the future behavior, set `pd.set_option('future.no_silent_downcasting', True)`\n",
      "  train_df[\"is_holiday\"].fillna(train_df[\"is_holiday\"].mode()[0], inplace=True)\n"
     ]
    }
   ],
   "source": [
    "train_df[\"is_holiday\"].fillna(train_df[\"is_holiday\"].mode()[0], inplace=True)"
   ],
   "metadata": {
    "collapsed": false,
    "ExecuteTime": {
     "end_time": "2025-03-28T02:33:25.879907400Z",
     "start_time": "2025-03-28T02:33:25.579634800Z"
    }
   },
   "id": "868cc104019c97fb"
  },
  {
   "cell_type": "code",
   "execution_count": 33,
   "outputs": [],
   "source": [
    "train_df[\"type_x\"] = train_df.apply(lambda row: \"Holiday\" if row[\"is_holiday\"] else \"Work Day\", axis=1)"
   ],
   "metadata": {
    "collapsed": false,
    "ExecuteTime": {
     "end_time": "2025-03-28T02:33:47.428852200Z",
     "start_time": "2025-03-28T02:33:25.876912700Z"
    }
   },
   "id": "c03b3cb60c97bab4"
  },
  {
   "cell_type": "code",
   "execution_count": 34,
   "outputs": [],
   "source": [
    "train_df.drop(columns=[\"locale_name\", \"description\", \"transferred\", \"locale\", \"state\"], inplace=True)"
   ],
   "metadata": {
    "collapsed": false,
    "ExecuteTime": {
     "end_time": "2025-03-28T02:33:47.673345800Z",
     "start_time": "2025-03-28T02:33:47.429853100Z"
    }
   },
   "id": "2bd3d3e0bcf7e566"
  },
  {
   "cell_type": "markdown",
   "source": [
    "## Check for duplicates"
   ],
   "metadata": {
    "collapsed": false
   },
   "id": "93cb702a8522ae52"
  },
  {
   "cell_type": "code",
   "execution_count": 35,
   "outputs": [
    {
     "data": {
      "text/plain": "53459"
     },
     "execution_count": 35,
     "metadata": {},
     "output_type": "execute_result"
    }
   ],
   "source": [
    "train_df.duplicated().sum()"
   ],
   "metadata": {
    "collapsed": false,
    "ExecuteTime": {
     "end_time": "2025-03-28T02:33:49.131063900Z",
     "start_time": "2025-03-28T02:33:47.674347700Z"
    }
   },
   "id": "ebd8984a67f7300f"
  },
  {
   "cell_type": "code",
   "execution_count": 36,
   "outputs": [],
   "source": [
    "train_df.drop_duplicates(inplace=True)"
   ],
   "metadata": {
    "collapsed": false,
    "ExecuteTime": {
     "end_time": "2025-03-28T02:33:50.766579Z",
     "start_time": "2025-03-28T02:33:49.130428500Z"
    }
   },
   "id": "6813fd71b17fce4"
  },
  {
   "cell_type": "code",
   "execution_count": 37,
   "outputs": [
    {
     "data": {
      "text/plain": "0"
     },
     "execution_count": 37,
     "metadata": {},
     "output_type": "execute_result"
    }
   ],
   "source": [
    "train.duplicated().sum()"
   ],
   "metadata": {
    "collapsed": false,
    "ExecuteTime": {
     "end_time": "2025-03-28T02:33:51.680325700Z",
     "start_time": "2025-03-28T02:33:50.767579100Z"
    }
   },
   "id": "fc9b6b6eb381e5a2"
  },
  {
   "cell_type": "code",
   "execution_count": 38,
   "outputs": [
    {
     "data": {
      "text/plain": "0"
     },
     "execution_count": 38,
     "metadata": {},
     "output_type": "execute_result"
    }
   ],
   "source": [
    "test.duplicated().sum()"
   ],
   "metadata": {
    "collapsed": false,
    "ExecuteTime": {
     "end_time": "2025-03-28T02:33:51.692964500Z",
     "start_time": "2025-03-28T02:33:51.680325700Z"
    }
   },
   "id": "d81cf5d8eb694da9"
  },
  {
   "cell_type": "markdown",
   "source": [
    "## Handle Outliers"
   ],
   "metadata": {
    "collapsed": false
   },
   "id": "bfb920ad1fff25cf"
  },
  {
   "cell_type": "code",
   "execution_count": 39,
   "outputs": [],
   "source": [
    "train_df[\"sales\"] = np.log1p(train_df[\"sales\"])\n",
    "train_df[\"dcoilwtico\"] = np.log1p(train_df[\"dcoilwtico\"])"
   ],
   "metadata": {
    "collapsed": false,
    "ExecuteTime": {
     "end_time": "2025-03-28T02:33:51.783769600Z",
     "start_time": "2025-03-28T02:33:51.691994900Z"
    }
   },
   "id": "254339427094dc7c"
  },
  {
   "cell_type": "code",
   "execution_count": 40,
   "outputs": [],
   "source": [
    "train[\"sales\"] = np.log1p(train[\"sales\"])"
   ],
   "metadata": {
    "collapsed": false,
    "ExecuteTime": {
     "end_time": "2025-03-28T02:33:51.836424300Z",
     "start_time": "2025-03-28T02:33:51.784811200Z"
    }
   },
   "id": "b39aec0140cde3e9"
  },
  {
   "cell_type": "markdown",
   "source": [
    "## Feature Engineering"
   ],
   "metadata": {
    "collapsed": false
   },
   "id": "cbee5c662bb3dac4"
  },
  {
   "cell_type": "markdown",
   "source": [
    "#### Time based features"
   ],
   "metadata": {
    "collapsed": false
   },
   "id": "334cf3bd03d003d3"
  },
  {
   "cell_type": "code",
   "execution_count": 41,
   "outputs": [],
   "source": [
    "train_df[\"year\"] = train_df[\"date\"].dt.year\n",
    "train_df[\"month\"] = train_df[\"date\"].dt.month\n",
    "train_df[\"day\"] = train_df[\"date\"].dt.day\n",
    "train_df[\"weekday\"] = train_df[\"date\"].dt.weekday\n",
    "train_df[\"is_weekend\"] = train_df[\"weekday\"].isin([5, 6]).astype(int)"
   ],
   "metadata": {
    "collapsed": false,
    "ExecuteTime": {
     "end_time": "2025-03-28T02:33:52.593574500Z",
     "start_time": "2025-03-28T02:33:51.829424100Z"
    }
   },
   "id": "c2be1c7dd6a98f8b"
  },
  {
   "cell_type": "code",
   "execution_count": 42,
   "outputs": [],
   "source": [
    "train[\"year\"] = train[\"date\"].dt.year\n",
    "train[\"month\"] = train[\"date\"].dt.month\n",
    "train[\"day\"] = train[\"date\"].dt.day\n",
    "train[\"weekday\"] = train[\"date\"].dt.weekday\n",
    "train[\"is_weekend\"] = train[\"weekday\"].isin([5, 6]).astype(int)"
   ],
   "metadata": {
    "collapsed": false,
    "ExecuteTime": {
     "end_time": "2025-03-28T02:33:53.319292600Z",
     "start_time": "2025-03-28T02:33:52.596577800Z"
    }
   },
   "id": "1221ab90cb4b42dc"
  },
  {
   "cell_type": "code",
   "execution_count": 43,
   "outputs": [],
   "source": [
    "test[\"year\"] = test[\"date\"].dt.year\n",
    "test[\"month\"] = test[\"date\"].dt.month\n",
    "test[\"day\"] = test[\"date\"].dt.day\n",
    "test[\"weekday\"] = test[\"date\"].dt.weekday\n",
    "test[\"is_weekend\"] = test[\"weekday\"].isin([5, 6]).astype(int)"
   ],
   "metadata": {
    "collapsed": false,
    "ExecuteTime": {
     "end_time": "2025-03-28T02:33:53.336540500Z",
     "start_time": "2025-03-28T02:33:53.320315400Z"
    }
   },
   "id": "32e3dcda191cd3d7"
  },
  {
   "cell_type": "code",
   "execution_count": 44,
   "outputs": [
    {
     "data": {
      "text/plain": "              id       date  store_nbr                      family     sales  \\\n0              0 2013-01-01          1                  AUTOMOTIVE  0.000000   \n1              1 2013-01-01          1                   BABY CARE  0.000000   \n2              2 2013-01-01          1                      BEAUTY  0.000000   \n3              3 2013-01-01          1                   BEVERAGES  0.000000   \n4              4 2013-01-01          1                       BOOKS  0.000000   \n...          ...        ...        ...                         ...       ...   \n3000883  3000883 2017-08-15          9                     POULTRY  6.084802   \n3000884  3000884 2017-08-15          9              PREPARED FOODS  5.046987   \n3000885  3000885 2017-08-15          9                     PRODUCE  7.791824   \n3000886  3000886 2017-08-15          9  SCHOOL AND OFFICE SUPPLIES  4.804021   \n3000887  3000887 2017-08-15          9                     SEAFOOD  2.833213   \n\n         onpromotion  day  year  month  weekday  is_weekend  \n0                  0    1  2013      1        1           0  \n1                  0    1  2013      1        1           0  \n2                  0    1  2013      1        1           0  \n3                  0    1  2013      1        1           0  \n4                  0    1  2013      1        1           0  \n...              ...  ...   ...    ...      ...         ...  \n3000883            0   15  2017      8        1           0  \n3000884            1   15  2017      8        1           0  \n3000885          148   15  2017      8        1           0  \n3000886            8   15  2017      8        1           0  \n3000887            0   15  2017      8        1           0  \n\n[3000888 rows x 11 columns]",
      "text/html": "<div>\n<style scoped>\n    .dataframe tbody tr th:only-of-type {\n        vertical-align: middle;\n    }\n\n    .dataframe tbody tr th {\n        vertical-align: top;\n    }\n\n    .dataframe thead th {\n        text-align: right;\n    }\n</style>\n<table border=\"1\" class=\"dataframe\">\n  <thead>\n    <tr style=\"text-align: right;\">\n      <th></th>\n      <th>id</th>\n      <th>date</th>\n      <th>store_nbr</th>\n      <th>family</th>\n      <th>sales</th>\n      <th>onpromotion</th>\n      <th>day</th>\n      <th>year</th>\n      <th>month</th>\n      <th>weekday</th>\n      <th>is_weekend</th>\n    </tr>\n  </thead>\n  <tbody>\n    <tr>\n      <th>0</th>\n      <td>0</td>\n      <td>2013-01-01</td>\n      <td>1</td>\n      <td>AUTOMOTIVE</td>\n      <td>0.000000</td>\n      <td>0</td>\n      <td>1</td>\n      <td>2013</td>\n      <td>1</td>\n      <td>1</td>\n      <td>0</td>\n    </tr>\n    <tr>\n      <th>1</th>\n      <td>1</td>\n      <td>2013-01-01</td>\n      <td>1</td>\n      <td>BABY CARE</td>\n      <td>0.000000</td>\n      <td>0</td>\n      <td>1</td>\n      <td>2013</td>\n      <td>1</td>\n      <td>1</td>\n      <td>0</td>\n    </tr>\n    <tr>\n      <th>2</th>\n      <td>2</td>\n      <td>2013-01-01</td>\n      <td>1</td>\n      <td>BEAUTY</td>\n      <td>0.000000</td>\n      <td>0</td>\n      <td>1</td>\n      <td>2013</td>\n      <td>1</td>\n      <td>1</td>\n      <td>0</td>\n    </tr>\n    <tr>\n      <th>3</th>\n      <td>3</td>\n      <td>2013-01-01</td>\n      <td>1</td>\n      <td>BEVERAGES</td>\n      <td>0.000000</td>\n      <td>0</td>\n      <td>1</td>\n      <td>2013</td>\n      <td>1</td>\n      <td>1</td>\n      <td>0</td>\n    </tr>\n    <tr>\n      <th>4</th>\n      <td>4</td>\n      <td>2013-01-01</td>\n      <td>1</td>\n      <td>BOOKS</td>\n      <td>0.000000</td>\n      <td>0</td>\n      <td>1</td>\n      <td>2013</td>\n      <td>1</td>\n      <td>1</td>\n      <td>0</td>\n    </tr>\n    <tr>\n      <th>...</th>\n      <td>...</td>\n      <td>...</td>\n      <td>...</td>\n      <td>...</td>\n      <td>...</td>\n      <td>...</td>\n      <td>...</td>\n      <td>...</td>\n      <td>...</td>\n      <td>...</td>\n      <td>...</td>\n    </tr>\n    <tr>\n      <th>3000883</th>\n      <td>3000883</td>\n      <td>2017-08-15</td>\n      <td>9</td>\n      <td>POULTRY</td>\n      <td>6.084802</td>\n      <td>0</td>\n      <td>15</td>\n      <td>2017</td>\n      <td>8</td>\n      <td>1</td>\n      <td>0</td>\n    </tr>\n    <tr>\n      <th>3000884</th>\n      <td>3000884</td>\n      <td>2017-08-15</td>\n      <td>9</td>\n      <td>PREPARED FOODS</td>\n      <td>5.046987</td>\n      <td>1</td>\n      <td>15</td>\n      <td>2017</td>\n      <td>8</td>\n      <td>1</td>\n      <td>0</td>\n    </tr>\n    <tr>\n      <th>3000885</th>\n      <td>3000885</td>\n      <td>2017-08-15</td>\n      <td>9</td>\n      <td>PRODUCE</td>\n      <td>7.791824</td>\n      <td>148</td>\n      <td>15</td>\n      <td>2017</td>\n      <td>8</td>\n      <td>1</td>\n      <td>0</td>\n    </tr>\n    <tr>\n      <th>3000886</th>\n      <td>3000886</td>\n      <td>2017-08-15</td>\n      <td>9</td>\n      <td>SCHOOL AND OFFICE SUPPLIES</td>\n      <td>4.804021</td>\n      <td>8</td>\n      <td>15</td>\n      <td>2017</td>\n      <td>8</td>\n      <td>1</td>\n      <td>0</td>\n    </tr>\n    <tr>\n      <th>3000887</th>\n      <td>3000887</td>\n      <td>2017-08-15</td>\n      <td>9</td>\n      <td>SEAFOOD</td>\n      <td>2.833213</td>\n      <td>0</td>\n      <td>15</td>\n      <td>2017</td>\n      <td>8</td>\n      <td>1</td>\n      <td>0</td>\n    </tr>\n  </tbody>\n</table>\n<p>3000888 rows × 11 columns</p>\n</div>"
     },
     "execution_count": 44,
     "metadata": {},
     "output_type": "execute_result"
    }
   ],
   "source": [
    "train"
   ],
   "metadata": {
    "collapsed": false,
    "ExecuteTime": {
     "end_time": "2025-03-28T02:33:53.383554200Z",
     "start_time": "2025-03-28T02:33:53.338558800Z"
    }
   },
   "id": "69e77cbd1e3d2fe1"
  },
  {
   "cell_type": "code",
   "execution_count": 45,
   "outputs": [],
   "source": [
    "\n",
    "feature_cols = [col for col in train.columns if col != 'sales']\n",
    "# Reorder test set columns to match training set columns\n",
    "test = test[feature_cols]\n"
   ],
   "metadata": {
    "collapsed": false,
    "ExecuteTime": {
     "end_time": "2025-03-28T02:33:53.383554200Z",
     "start_time": "2025-03-28T02:33:53.354779900Z"
    }
   },
   "id": "9ac76978385ffe99"
  },
  {
   "cell_type": "code",
   "execution_count": 46,
   "outputs": [
    {
     "data": {
      "text/plain": "            id       date  store_nbr                      family  onpromotion  \\\n0      3000888 2017-08-16          1                  AUTOMOTIVE            0   \n1      3000889 2017-08-16          1                   BABY CARE            0   \n2      3000890 2017-08-16          1                      BEAUTY            2   \n3      3000891 2017-08-16          1                   BEVERAGES           20   \n4      3000892 2017-08-16          1                       BOOKS            0   \n...        ...        ...        ...                         ...          ...   \n28507  3029395 2017-08-31          9                     POULTRY            1   \n28508  3029396 2017-08-31          9              PREPARED FOODS            0   \n28509  3029397 2017-08-31          9                     PRODUCE            1   \n28510  3029398 2017-08-31          9  SCHOOL AND OFFICE SUPPLIES            9   \n28511  3029399 2017-08-31          9                     SEAFOOD            0   \n\n       day  year  month  weekday  is_weekend  \n0       16  2017      8        2           0  \n1       16  2017      8        2           0  \n2       16  2017      8        2           0  \n3       16  2017      8        2           0  \n4       16  2017      8        2           0  \n...    ...   ...    ...      ...         ...  \n28507   31  2017      8        3           0  \n28508   31  2017      8        3           0  \n28509   31  2017      8        3           0  \n28510   31  2017      8        3           0  \n28511   31  2017      8        3           0  \n\n[28512 rows x 10 columns]",
      "text/html": "<div>\n<style scoped>\n    .dataframe tbody tr th:only-of-type {\n        vertical-align: middle;\n    }\n\n    .dataframe tbody tr th {\n        vertical-align: top;\n    }\n\n    .dataframe thead th {\n        text-align: right;\n    }\n</style>\n<table border=\"1\" class=\"dataframe\">\n  <thead>\n    <tr style=\"text-align: right;\">\n      <th></th>\n      <th>id</th>\n      <th>date</th>\n      <th>store_nbr</th>\n      <th>family</th>\n      <th>onpromotion</th>\n      <th>day</th>\n      <th>year</th>\n      <th>month</th>\n      <th>weekday</th>\n      <th>is_weekend</th>\n    </tr>\n  </thead>\n  <tbody>\n    <tr>\n      <th>0</th>\n      <td>3000888</td>\n      <td>2017-08-16</td>\n      <td>1</td>\n      <td>AUTOMOTIVE</td>\n      <td>0</td>\n      <td>16</td>\n      <td>2017</td>\n      <td>8</td>\n      <td>2</td>\n      <td>0</td>\n    </tr>\n    <tr>\n      <th>1</th>\n      <td>3000889</td>\n      <td>2017-08-16</td>\n      <td>1</td>\n      <td>BABY CARE</td>\n      <td>0</td>\n      <td>16</td>\n      <td>2017</td>\n      <td>8</td>\n      <td>2</td>\n      <td>0</td>\n    </tr>\n    <tr>\n      <th>2</th>\n      <td>3000890</td>\n      <td>2017-08-16</td>\n      <td>1</td>\n      <td>BEAUTY</td>\n      <td>2</td>\n      <td>16</td>\n      <td>2017</td>\n      <td>8</td>\n      <td>2</td>\n      <td>0</td>\n    </tr>\n    <tr>\n      <th>3</th>\n      <td>3000891</td>\n      <td>2017-08-16</td>\n      <td>1</td>\n      <td>BEVERAGES</td>\n      <td>20</td>\n      <td>16</td>\n      <td>2017</td>\n      <td>8</td>\n      <td>2</td>\n      <td>0</td>\n    </tr>\n    <tr>\n      <th>4</th>\n      <td>3000892</td>\n      <td>2017-08-16</td>\n      <td>1</td>\n      <td>BOOKS</td>\n      <td>0</td>\n      <td>16</td>\n      <td>2017</td>\n      <td>8</td>\n      <td>2</td>\n      <td>0</td>\n    </tr>\n    <tr>\n      <th>...</th>\n      <td>...</td>\n      <td>...</td>\n      <td>...</td>\n      <td>...</td>\n      <td>...</td>\n      <td>...</td>\n      <td>...</td>\n      <td>...</td>\n      <td>...</td>\n      <td>...</td>\n    </tr>\n    <tr>\n      <th>28507</th>\n      <td>3029395</td>\n      <td>2017-08-31</td>\n      <td>9</td>\n      <td>POULTRY</td>\n      <td>1</td>\n      <td>31</td>\n      <td>2017</td>\n      <td>8</td>\n      <td>3</td>\n      <td>0</td>\n    </tr>\n    <tr>\n      <th>28508</th>\n      <td>3029396</td>\n      <td>2017-08-31</td>\n      <td>9</td>\n      <td>PREPARED FOODS</td>\n      <td>0</td>\n      <td>31</td>\n      <td>2017</td>\n      <td>8</td>\n      <td>3</td>\n      <td>0</td>\n    </tr>\n    <tr>\n      <th>28509</th>\n      <td>3029397</td>\n      <td>2017-08-31</td>\n      <td>9</td>\n      <td>PRODUCE</td>\n      <td>1</td>\n      <td>31</td>\n      <td>2017</td>\n      <td>8</td>\n      <td>3</td>\n      <td>0</td>\n    </tr>\n    <tr>\n      <th>28510</th>\n      <td>3029398</td>\n      <td>2017-08-31</td>\n      <td>9</td>\n      <td>SCHOOL AND OFFICE SUPPLIES</td>\n      <td>9</td>\n      <td>31</td>\n      <td>2017</td>\n      <td>8</td>\n      <td>3</td>\n      <td>0</td>\n    </tr>\n    <tr>\n      <th>28511</th>\n      <td>3029399</td>\n      <td>2017-08-31</td>\n      <td>9</td>\n      <td>SEAFOOD</td>\n      <td>0</td>\n      <td>31</td>\n      <td>2017</td>\n      <td>8</td>\n      <td>3</td>\n      <td>0</td>\n    </tr>\n  </tbody>\n</table>\n<p>28512 rows × 10 columns</p>\n</div>"
     },
     "execution_count": 46,
     "metadata": {},
     "output_type": "execute_result"
    }
   ],
   "source": [
    "test"
   ],
   "metadata": {
    "collapsed": false,
    "ExecuteTime": {
     "end_time": "2025-03-28T02:33:53.384686Z",
     "start_time": "2025-03-28T02:33:53.361577200Z"
    }
   },
   "id": "d3676e255a9ba5ba"
  },
  {
   "cell_type": "markdown",
   "source": [
    "#### Create lag features for analysis"
   ],
   "metadata": {
    "collapsed": false
   },
   "id": "5316d5cd132b52c3"
  },
  {
   "cell_type": "code",
   "execution_count": 47,
   "outputs": [
    {
     "name": "stderr",
     "output_type": "stream",
     "text": [
      "C:\\Users\\faresaboagour\\AppData\\Local\\Temp\\ipykernel_18612\\1799864197.py:5: FutureWarning: Series.fillna with 'method' is deprecated and will raise in a future version. Use obj.ffill() or obj.bfill() instead.\n",
      "  train_df[\"sales_lag_1\"] = train_df[\"sales_lag_1\"].fillna(method=\"ffill\").fillna(method=\"bfill\")\n",
      "C:\\Users\\faresaboagour\\AppData\\Local\\Temp\\ipykernel_18612\\1799864197.py:9: FutureWarning: Series.fillna with 'method' is deprecated and will raise in a future version. Use obj.ffill() or obj.bfill() instead.\n",
      "  train_df[\"sales_lag_7\"] = train_df[\"sales_lag_7\"].fillna(method=\"ffill\").fillna(method=\"bfill\")\n",
      "C:\\Users\\faresaboagour\\AppData\\Local\\Temp\\ipykernel_18612\\1799864197.py:13: FutureWarning: Series.fillna with 'method' is deprecated and will raise in a future version. Use obj.ffill() or obj.bfill() instead.\n",
      "  train_df[\"sales_rolling_mean_7\"] = train_df[\"sales_rolling_mean_7\"].fillna(method=\"ffill\").fillna(method=\"bfill\")\n"
     ]
    }
   ],
   "source": [
    "train_df = train_df.sort_values(by=[\"store_nbr\", \"family\", \"date\"])\n",
    "\n",
    "# Previous day sales\n",
    "train_df[\"sales_lag_1\"] = train_df.groupby([\"store_nbr\", \"family\"])[\"sales\"].shift(1)\n",
    "train_df[\"sales_lag_1\"] = train_df[\"sales_lag_1\"].fillna(method=\"ffill\").fillna(method=\"bfill\")\n",
    "\n",
    "# Previous week sales (7-day lag)\n",
    "train_df[\"sales_lag_7\"] = train_df.groupby([\"store_nbr\", \"family\"])[\"sales\"].shift(7)\n",
    "train_df[\"sales_lag_7\"] = train_df[\"sales_lag_7\"].fillna(method=\"ffill\").fillna(method=\"bfill\")\n",
    "\n",
    "# Rolling mean (weekly average sales)\n",
    "train_df[\"sales_rolling_mean_7\"] = train_df.groupby([\"store_nbr\", \"family\"])[\"sales\"].shift(1).rolling(window=7).mean()\n",
    "train_df[\"sales_rolling_mean_7\"] = train_df[\"sales_rolling_mean_7\"].fillna(method=\"ffill\").fillna(method=\"bfill\")\n",
    "\n",
    "# Oil price change (day-over-day percentage change)\n",
    "train_df[\"oil_price_change\"] = train_df[\"dcoilwtico\"].pct_change().fillna(0)\n"
   ],
   "metadata": {
    "collapsed": false,
    "ExecuteTime": {
     "end_time": "2025-03-28T02:33:55.462433800Z",
     "start_time": "2025-03-28T02:33:53.382548900Z"
    }
   },
   "id": "e3e337c11982cac3"
  },
  {
   "cell_type": "markdown",
   "source": [
    "### Dimensionality reduction"
   ],
   "metadata": {
    "collapsed": false
   },
   "id": "73c83b40c56bd444"
  },
  {
   "cell_type": "code",
   "execution_count": 48,
   "outputs": [
    {
     "data": {
      "text/plain": "city\nQuito            1000297\nGuayaquil         444576\nCuenca            166716\nSanto Domingo     166716\nManta             111144\nLatacunga         111144\nMachala           111144\nAmbato            111144\nQuevedo            55572\nEsmeraldas         55572\nLoja               55572\nLibertad           55572\nPlayas             55572\nDaule              55572\nBabahoyo           55572\nSalinas            55572\nPuyo               55572\nGuaranda           55572\nIbarra             55572\nRiobamba           55572\nCayambe            55572\nEl Carmen          55572\nName: count, dtype: int64"
     },
     "execution_count": 48,
     "metadata": {},
     "output_type": "execute_result"
    }
   ],
   "source": [
    "train_df[\"city\"].value_counts()"
   ],
   "metadata": {
    "collapsed": false,
    "ExecuteTime": {
     "end_time": "2025-03-28T02:33:55.577125300Z",
     "start_time": "2025-03-28T02:33:55.461434Z"
    }
   },
   "id": "eef10a2a78a00072"
  },
  {
   "cell_type": "code",
   "execution_count": 49,
   "outputs": [],
   "source": [
    "top_cities = [\"Quito\", \"Guayaquil\", \"Cuenca\", \"Manta\", \"Santo Domingo\", \"latacunga\", \"Machala\"]\n",
    "train_df[\"city\"] = train_df[\"city\"].apply(lambda x: \"Other\" if x not in top_cities else x)"
   ],
   "metadata": {
    "collapsed": false,
    "ExecuteTime": {
     "end_time": "2025-03-28T02:33:56.188133400Z",
     "start_time": "2025-03-28T02:33:55.576498500Z"
    }
   },
   "id": "f0848775328ef92a"
  },
  {
   "cell_type": "code",
   "execution_count": 50,
   "outputs": [
    {
     "data": {
      "text/plain": "family\nHOME AND KITCHEN II           90937\nHOME APPLIANCES               90936\nSCHOOL AND OFFICE SUPPLIES    90936\nPRODUCE                       90936\nPREPARED FOODS                90936\nPOULTRY                       90936\nPLAYERS AND ELECTRONICS       90936\nPET SUPPLIES                  90936\nPERSONAL CARE                 90936\nMEATS                         90936\nMAGAZINES                     90936\nLIQUOR,WINE,BEER              90936\nLINGERIE                      90936\nLAWN AND GARDEN               90936\nLADIESWEAR                    90936\nHOME CARE                     90936\nAUTOMOTIVE                    90936\nBABY CARE                     90936\nHOME AND KITCHEN I            90936\nHARDWARE                      90936\nGROCERY II                    90936\nGROCERY I                     90936\nFROZEN FOODS                  90936\nEGGS                          90936\nDELI                          90936\nDAIRY                         90936\nCLEANING                      90936\nCELEBRATION                   90936\nBREAD/BAKERY                  90936\nBOOKS                         90936\nBEVERAGES                     90936\nBEAUTY                        90936\nSEAFOOD                       90936\nName: count, dtype: int64"
     },
     "execution_count": 50,
     "metadata": {},
     "output_type": "execute_result"
    }
   ],
   "source": [
    "train_df[\"family\"].value_counts()"
   ],
   "metadata": {
    "collapsed": false,
    "ExecuteTime": {
     "end_time": "2025-03-28T02:33:56.363343100Z",
     "start_time": "2025-03-28T02:33:56.189133800Z"
    }
   },
   "id": "c1525cbb688d3583"
  },
  {
   "cell_type": "code",
   "execution_count": 51,
   "outputs": [
    {
     "data": {
      "text/plain": "family_grouped\nGroceries                 1091232\nHome & Kitchen             454681\nBeauty & Personal Care     181872\nBeverages                  181872\nBooks & Media              181872\nHome & Garden              181872\nClothing                   181872\nAutomotive                  90936\nBaby Products               90936\nOccasions & Gifts           90936\nPets                        90936\nElectronics                 90936\nOffice Supplies             90936\nName: count, dtype: int64"
     },
     "execution_count": 51,
     "metadata": {},
     "output_type": "execute_result"
    }
   ],
   "source": [
    "family_mapping = {\n",
    "    'HOME AND KITCHEN II': 'Home & Kitchen',\n",
    "    'HOME APPLIANCES': 'Home & Kitchen',\n",
    "    'SCHOOL AND OFFICE SUPPLIES': 'Office Supplies',\n",
    "    'PRODUCE': 'Groceries',\n",
    "    'PREPARED FOODS': 'Groceries',\n",
    "    'POULTRY': 'Groceries',\n",
    "    'PLAYERS AND ELECTRONICS': 'Electronics',\n",
    "    'PET SUPPLIES': 'Pets',\n",
    "    'PERSONAL CARE': 'Beauty & Personal Care',\n",
    "    'MEATS': 'Groceries',\n",
    "    'MAGAZINES': 'Books & Media',\n",
    "    'LIQUOR,WINE,BEER': 'Beverages',\n",
    "    'LINGERIE': 'Clothing',\n",
    "    'LAWN AND GARDEN': 'Home & Garden',\n",
    "    'LADIESWEAR': 'Clothing',\n",
    "    'HOME CARE': 'Home & Kitchen',\n",
    "    'AUTOMOTIVE': 'Automotive',\n",
    "    'BABY CARE': 'Baby Products',\n",
    "    'HOME AND KITCHEN I': 'Home & Kitchen',\n",
    "    'HARDWARE': 'Home & Garden',\n",
    "    'GROCERY II': 'Groceries',\n",
    "    'GROCERY I': 'Groceries',\n",
    "    'FROZEN FOODS': 'Groceries',\n",
    "    'EGGS': 'Groceries',\n",
    "    'DELI': 'Groceries',\n",
    "    'DAIRY': 'Groceries',\n",
    "    'CLEANING': 'Home & Kitchen',\n",
    "    'CELEBRATION': 'Occasions & Gifts',\n",
    "    'BREAD/BAKERY': 'Groceries',\n",
    "    'BOOKS': 'Books & Media',\n",
    "    'BEVERAGES': 'Beverages',\n",
    "    'BEAUTY': 'Beauty & Personal Care',\n",
    "    'SEAFOOD': 'Groceries'\n",
    "}\n",
    "\n",
    "train_df['family_grouped'] = train_df['family'].map(family_mapping)\n",
    "\n",
    "train_df['family_grouped'].value_counts()\n"
   ],
   "metadata": {
    "collapsed": false,
    "ExecuteTime": {
     "end_time": "2025-03-28T02:33:56.676307400Z",
     "start_time": "2025-03-28T02:33:56.364351300Z"
    }
   },
   "id": "536a9b569678c1b6"
  },
  {
   "cell_type": "code",
   "execution_count": 52,
   "outputs": [],
   "source": [
    "train[\"family_grouped\"] = train[\"family\"].map(family_mapping)"
   ],
   "metadata": {
    "collapsed": false,
    "ExecuteTime": {
     "end_time": "2025-03-28T02:33:56.890606400Z",
     "start_time": "2025-03-28T02:33:56.676307400Z"
    }
   },
   "id": "d5ad2708873f3e97"
  },
  {
   "cell_type": "code",
   "execution_count": 53,
   "outputs": [
    {
     "name": "stderr",
     "output_type": "stream",
     "text": [
      "C:\\Users\\faresaboagour\\AppData\\Local\\Temp\\ipykernel_18612\\3572469770.py:1: SettingWithCopyWarning: \n",
      "A value is trying to be set on a copy of a slice from a DataFrame.\n",
      "Try using .loc[row_indexer,col_indexer] = value instead\n",
      "\n",
      "See the caveats in the documentation: https://pandas.pydata.org/pandas-docs/stable/user_guide/indexing.html#returning-a-view-versus-a-copy\n",
      "  test[\"family_grouped\"] = test[\"family\"].map(family_mapping)\n"
     ]
    }
   ],
   "source": [
    "test[\"family_grouped\"] = test[\"family\"].map(family_mapping)"
   ],
   "metadata": {
    "collapsed": false,
    "ExecuteTime": {
     "end_time": "2025-03-28T02:33:56.902839300Z",
     "start_time": "2025-03-28T02:33:56.892607800Z"
    }
   },
   "id": "98cfd6ede6891439"
  },
  {
   "cell_type": "markdown",
   "source": [
    "## Handle Categorical Features"
   ],
   "metadata": {
    "collapsed": false
   },
   "id": "e09a376c59b94342"
  },
  {
   "cell_type": "code",
   "execution_count": 54,
   "outputs": [],
   "source": [
    "from sklearn.preprocessing import LabelEncoder\n",
    "\n",
    "le = LabelEncoder()\n",
    "\n",
    "train_df[\"type_x\"] = le.fit_transform(train_df[\"type_x\"])\n",
    "train_df[\"type_y\"] = le.fit_transform(train_df[\"type_y\"])\n",
    "\n",
    "train_df = pd.get_dummies(train_df, columns=[\"family\", \"city\"], drop_first=True)"
   ],
   "metadata": {
    "collapsed": false,
    "ExecuteTime": {
     "end_time": "2025-03-28T02:33:59.076329600Z",
     "start_time": "2025-03-28T02:33:56.902839300Z"
    }
   },
   "id": "927716612bc35e27"
  },
  {
   "cell_type": "code",
   "execution_count": 55,
   "outputs": [],
   "source": [
    "train = pd.get_dummies(train, columns=[\"family_grouped\"], drop_first=True)"
   ],
   "metadata": {
    "collapsed": false,
    "ExecuteTime": {
     "end_time": "2025-03-28T02:33:59.511313800Z",
     "start_time": "2025-03-28T02:33:59.077328700Z"
    }
   },
   "id": "d01aeea9c27b0a8c"
  },
  {
   "cell_type": "code",
   "execution_count": 56,
   "outputs": [],
   "source": [
    "test = pd.get_dummies(test, columns=[\"family_grouped\"], drop_first=True)"
   ],
   "metadata": {
    "collapsed": false,
    "ExecuteTime": {
     "end_time": "2025-03-28T02:33:59.524011300Z",
     "start_time": "2025-03-28T02:33:59.513322300Z"
    }
   },
   "id": "b381ba45657cc73f"
  },
  {
   "cell_type": "code",
   "execution_count": 60,
   "outputs": [
    {
     "ename": "KeyError",
     "evalue": "\"['id', 'date', 'family'] not found in axis\"",
     "output_type": "error",
     "traceback": [
      "\u001B[1;31m---------------------------------------------------------------------------\u001B[0m",
      "\u001B[1;31mKeyError\u001B[0m                                  Traceback (most recent call last)",
      "Cell \u001B[1;32mIn[60], line 2\u001B[0m\n\u001B[0;32m      1\u001B[0m col_to_drop \u001B[38;5;241m=\u001B[39m [\u001B[38;5;124m\"\u001B[39m\u001B[38;5;124mid\u001B[39m\u001B[38;5;124m\"\u001B[39m, \u001B[38;5;124m\"\u001B[39m\u001B[38;5;124mdate\u001B[39m\u001B[38;5;124m\"\u001B[39m, \u001B[38;5;124m\"\u001B[39m\u001B[38;5;124mfamily\u001B[39m\u001B[38;5;124m\"\u001B[39m]\n\u001B[1;32m----> 2\u001B[0m \u001B[43mtrain_df\u001B[49m\u001B[38;5;241;43m.\u001B[39;49m\u001B[43mdrop\u001B[49m\u001B[43m(\u001B[49m\u001B[43mcolumns\u001B[49m\u001B[38;5;241;43m=\u001B[39;49m\u001B[43mcol_to_drop\u001B[49m\u001B[43m,\u001B[49m\u001B[43m \u001B[49m\u001B[43minplace\u001B[49m\u001B[38;5;241;43m=\u001B[39;49m\u001B[38;5;28;43;01mTrue\u001B[39;49;00m\u001B[43m)\u001B[49m\n",
      "File \u001B[1;32m~\\AppData\\Local\\anaconda3\\envs\\MachineLearning\\Lib\\site-packages\\pandas\\core\\frame.py:5581\u001B[0m, in \u001B[0;36mDataFrame.drop\u001B[1;34m(self, labels, axis, index, columns, level, inplace, errors)\u001B[0m\n\u001B[0;32m   5433\u001B[0m \u001B[38;5;28;01mdef\u001B[39;00m \u001B[38;5;21mdrop\u001B[39m(\n\u001B[0;32m   5434\u001B[0m     \u001B[38;5;28mself\u001B[39m,\n\u001B[0;32m   5435\u001B[0m     labels: IndexLabel \u001B[38;5;241m|\u001B[39m \u001B[38;5;28;01mNone\u001B[39;00m \u001B[38;5;241m=\u001B[39m \u001B[38;5;28;01mNone\u001B[39;00m,\n\u001B[1;32m   (...)\u001B[0m\n\u001B[0;32m   5442\u001B[0m     errors: IgnoreRaise \u001B[38;5;241m=\u001B[39m \u001B[38;5;124m\"\u001B[39m\u001B[38;5;124mraise\u001B[39m\u001B[38;5;124m\"\u001B[39m,\n\u001B[0;32m   5443\u001B[0m ) \u001B[38;5;241m-\u001B[39m\u001B[38;5;241m>\u001B[39m DataFrame \u001B[38;5;241m|\u001B[39m \u001B[38;5;28;01mNone\u001B[39;00m:\n\u001B[0;32m   5444\u001B[0m \u001B[38;5;250m    \u001B[39m\u001B[38;5;124;03m\"\"\"\u001B[39;00m\n\u001B[0;32m   5445\u001B[0m \u001B[38;5;124;03m    Drop specified labels from rows or columns.\u001B[39;00m\n\u001B[0;32m   5446\u001B[0m \n\u001B[1;32m   (...)\u001B[0m\n\u001B[0;32m   5579\u001B[0m \u001B[38;5;124;03m            weight  1.0     0.8\u001B[39;00m\n\u001B[0;32m   5580\u001B[0m \u001B[38;5;124;03m    \"\"\"\u001B[39;00m\n\u001B[1;32m-> 5581\u001B[0m     \u001B[38;5;28;01mreturn\u001B[39;00m \u001B[38;5;28;43msuper\u001B[39;49m\u001B[43m(\u001B[49m\u001B[43m)\u001B[49m\u001B[38;5;241;43m.\u001B[39;49m\u001B[43mdrop\u001B[49m\u001B[43m(\u001B[49m\n\u001B[0;32m   5582\u001B[0m \u001B[43m        \u001B[49m\u001B[43mlabels\u001B[49m\u001B[38;5;241;43m=\u001B[39;49m\u001B[43mlabels\u001B[49m\u001B[43m,\u001B[49m\n\u001B[0;32m   5583\u001B[0m \u001B[43m        \u001B[49m\u001B[43maxis\u001B[49m\u001B[38;5;241;43m=\u001B[39;49m\u001B[43maxis\u001B[49m\u001B[43m,\u001B[49m\n\u001B[0;32m   5584\u001B[0m \u001B[43m        \u001B[49m\u001B[43mindex\u001B[49m\u001B[38;5;241;43m=\u001B[39;49m\u001B[43mindex\u001B[49m\u001B[43m,\u001B[49m\n\u001B[0;32m   5585\u001B[0m \u001B[43m        \u001B[49m\u001B[43mcolumns\u001B[49m\u001B[38;5;241;43m=\u001B[39;49m\u001B[43mcolumns\u001B[49m\u001B[43m,\u001B[49m\n\u001B[0;32m   5586\u001B[0m \u001B[43m        \u001B[49m\u001B[43mlevel\u001B[49m\u001B[38;5;241;43m=\u001B[39;49m\u001B[43mlevel\u001B[49m\u001B[43m,\u001B[49m\n\u001B[0;32m   5587\u001B[0m \u001B[43m        \u001B[49m\u001B[43minplace\u001B[49m\u001B[38;5;241;43m=\u001B[39;49m\u001B[43minplace\u001B[49m\u001B[43m,\u001B[49m\n\u001B[0;32m   5588\u001B[0m \u001B[43m        \u001B[49m\u001B[43merrors\u001B[49m\u001B[38;5;241;43m=\u001B[39;49m\u001B[43merrors\u001B[49m\u001B[43m,\u001B[49m\n\u001B[0;32m   5589\u001B[0m \u001B[43m    \u001B[49m\u001B[43m)\u001B[49m\n",
      "File \u001B[1;32m~\\AppData\\Local\\anaconda3\\envs\\MachineLearning\\Lib\\site-packages\\pandas\\core\\generic.py:4788\u001B[0m, in \u001B[0;36mNDFrame.drop\u001B[1;34m(self, labels, axis, index, columns, level, inplace, errors)\u001B[0m\n\u001B[0;32m   4786\u001B[0m \u001B[38;5;28;01mfor\u001B[39;00m axis, labels \u001B[38;5;129;01min\u001B[39;00m axes\u001B[38;5;241m.\u001B[39mitems():\n\u001B[0;32m   4787\u001B[0m     \u001B[38;5;28;01mif\u001B[39;00m labels \u001B[38;5;129;01mis\u001B[39;00m \u001B[38;5;129;01mnot\u001B[39;00m \u001B[38;5;28;01mNone\u001B[39;00m:\n\u001B[1;32m-> 4788\u001B[0m         obj \u001B[38;5;241m=\u001B[39m \u001B[43mobj\u001B[49m\u001B[38;5;241;43m.\u001B[39;49m\u001B[43m_drop_axis\u001B[49m\u001B[43m(\u001B[49m\u001B[43mlabels\u001B[49m\u001B[43m,\u001B[49m\u001B[43m \u001B[49m\u001B[43maxis\u001B[49m\u001B[43m,\u001B[49m\u001B[43m \u001B[49m\u001B[43mlevel\u001B[49m\u001B[38;5;241;43m=\u001B[39;49m\u001B[43mlevel\u001B[49m\u001B[43m,\u001B[49m\u001B[43m \u001B[49m\u001B[43merrors\u001B[49m\u001B[38;5;241;43m=\u001B[39;49m\u001B[43merrors\u001B[49m\u001B[43m)\u001B[49m\n\u001B[0;32m   4790\u001B[0m \u001B[38;5;28;01mif\u001B[39;00m inplace:\n\u001B[0;32m   4791\u001B[0m     \u001B[38;5;28mself\u001B[39m\u001B[38;5;241m.\u001B[39m_update_inplace(obj)\n",
      "File \u001B[1;32m~\\AppData\\Local\\anaconda3\\envs\\MachineLearning\\Lib\\site-packages\\pandas\\core\\generic.py:4830\u001B[0m, in \u001B[0;36mNDFrame._drop_axis\u001B[1;34m(self, labels, axis, level, errors, only_slice)\u001B[0m\n\u001B[0;32m   4828\u001B[0m         new_axis \u001B[38;5;241m=\u001B[39m axis\u001B[38;5;241m.\u001B[39mdrop(labels, level\u001B[38;5;241m=\u001B[39mlevel, errors\u001B[38;5;241m=\u001B[39merrors)\n\u001B[0;32m   4829\u001B[0m     \u001B[38;5;28;01melse\u001B[39;00m:\n\u001B[1;32m-> 4830\u001B[0m         new_axis \u001B[38;5;241m=\u001B[39m \u001B[43maxis\u001B[49m\u001B[38;5;241;43m.\u001B[39;49m\u001B[43mdrop\u001B[49m\u001B[43m(\u001B[49m\u001B[43mlabels\u001B[49m\u001B[43m,\u001B[49m\u001B[43m \u001B[49m\u001B[43merrors\u001B[49m\u001B[38;5;241;43m=\u001B[39;49m\u001B[43merrors\u001B[49m\u001B[43m)\u001B[49m\n\u001B[0;32m   4831\u001B[0m     indexer \u001B[38;5;241m=\u001B[39m axis\u001B[38;5;241m.\u001B[39mget_indexer(new_axis)\n\u001B[0;32m   4833\u001B[0m \u001B[38;5;66;03m# Case for non-unique axis\u001B[39;00m\n\u001B[0;32m   4834\u001B[0m \u001B[38;5;28;01melse\u001B[39;00m:\n",
      "File \u001B[1;32m~\\AppData\\Local\\anaconda3\\envs\\MachineLearning\\Lib\\site-packages\\pandas\\core\\indexes\\base.py:7070\u001B[0m, in \u001B[0;36mIndex.drop\u001B[1;34m(self, labels, errors)\u001B[0m\n\u001B[0;32m   7068\u001B[0m \u001B[38;5;28;01mif\u001B[39;00m mask\u001B[38;5;241m.\u001B[39many():\n\u001B[0;32m   7069\u001B[0m     \u001B[38;5;28;01mif\u001B[39;00m errors \u001B[38;5;241m!=\u001B[39m \u001B[38;5;124m\"\u001B[39m\u001B[38;5;124mignore\u001B[39m\u001B[38;5;124m\"\u001B[39m:\n\u001B[1;32m-> 7070\u001B[0m         \u001B[38;5;28;01mraise\u001B[39;00m \u001B[38;5;167;01mKeyError\u001B[39;00m(\u001B[38;5;124mf\u001B[39m\u001B[38;5;124m\"\u001B[39m\u001B[38;5;132;01m{\u001B[39;00mlabels[mask]\u001B[38;5;241m.\u001B[39mtolist()\u001B[38;5;132;01m}\u001B[39;00m\u001B[38;5;124m not found in axis\u001B[39m\u001B[38;5;124m\"\u001B[39m)\n\u001B[0;32m   7071\u001B[0m     indexer \u001B[38;5;241m=\u001B[39m indexer[\u001B[38;5;241m~\u001B[39mmask]\n\u001B[0;32m   7072\u001B[0m \u001B[38;5;28;01mreturn\u001B[39;00m \u001B[38;5;28mself\u001B[39m\u001B[38;5;241m.\u001B[39mdelete(indexer)\n",
      "\u001B[1;31mKeyError\u001B[0m: \"['id', 'date', 'family'] not found in axis\""
     ]
    }
   ],
   "source": [
    "col_to_drop = [\"id\", \"date\", \"family\"]\n",
    "train_df.drop(columns=col_to_drop, inplace=True)"
   ],
   "metadata": {
    "collapsed": false,
    "ExecuteTime": {
     "end_time": "2025-03-28T03:00:28.962845Z",
     "start_time": "2025-03-28T03:00:28.801733300Z"
    }
   },
   "id": "d4f4bcc90d2bc909"
  },
  {
   "cell_type": "code",
   "execution_count": 61,
   "outputs": [
    {
     "data": {
      "text/plain": "              id       date  store_nbr                      family     sales  \\\n0              0 2013-01-01          1                  AUTOMOTIVE  0.000000   \n1              1 2013-01-01          1                   BABY CARE  0.000000   \n2              2 2013-01-01          1                      BEAUTY  0.000000   \n3              3 2013-01-01          1                   BEVERAGES  0.000000   \n4              4 2013-01-01          1                       BOOKS  0.000000   \n...          ...        ...        ...                         ...       ...   \n3000883  3000883 2017-08-15          9                     POULTRY  6.084802   \n3000884  3000884 2017-08-15          9              PREPARED FOODS  5.046987   \n3000885  3000885 2017-08-15          9                     PRODUCE  7.791824   \n3000886  3000886 2017-08-15          9  SCHOOL AND OFFICE SUPPLIES  4.804021   \n3000887  3000887 2017-08-15          9                     SEAFOOD  2.833213   \n\n         onpromotion  day  year  month  weekday  ...  \\\n0                  0    1  2013      1        1  ...   \n1                  0    1  2013      1        1  ...   \n2                  0    1  2013      1        1  ...   \n3                  0    1  2013      1        1  ...   \n4                  0    1  2013      1        1  ...   \n...              ...  ...   ...    ...      ...  ...   \n3000883            0   15  2017      8        1  ...   \n3000884            1   15  2017      8        1  ...   \n3000885          148   15  2017      8        1  ...   \n3000886            8   15  2017      8        1  ...   \n3000887            0   15  2017      8        1  ...   \n\n         family_grouped_Beverages  family_grouped_Books & Media  \\\n0                           False                         False   \n1                           False                         False   \n2                           False                         False   \n3                            True                         False   \n4                           False                          True   \n...                           ...                           ...   \n3000883                     False                         False   \n3000884                     False                         False   \n3000885                     False                         False   \n3000886                     False                         False   \n3000887                     False                         False   \n\n         family_grouped_Clothing  family_grouped_Electronics  \\\n0                          False                       False   \n1                          False                       False   \n2                          False                       False   \n3                          False                       False   \n4                          False                       False   \n...                          ...                         ...   \n3000883                    False                       False   \n3000884                    False                       False   \n3000885                    False                       False   \n3000886                    False                       False   \n3000887                    False                       False   \n\n         family_grouped_Groceries  family_grouped_Home & Garden  \\\n0                           False                         False   \n1                           False                         False   \n2                           False                         False   \n3                           False                         False   \n4                           False                         False   \n...                           ...                           ...   \n3000883                      True                         False   \n3000884                      True                         False   \n3000885                      True                         False   \n3000886                     False                         False   \n3000887                      True                         False   \n\n         family_grouped_Home & Kitchen  family_grouped_Occasions & Gifts  \\\n0                                False                             False   \n1                                False                             False   \n2                                False                             False   \n3                                False                             False   \n4                                False                             False   \n...                                ...                               ...   \n3000883                          False                             False   \n3000884                          False                             False   \n3000885                          False                             False   \n3000886                          False                             False   \n3000887                          False                             False   \n\n         family_grouped_Office Supplies  family_grouped_Pets  \n0                                 False                False  \n1                                 False                False  \n2                                 False                False  \n3                                 False                False  \n4                                 False                False  \n...                                 ...                  ...  \n3000883                           False                False  \n3000884                           False                False  \n3000885                           False                False  \n3000886                            True                False  \n3000887                           False                False  \n\n[3000888 rows x 23 columns]",
      "text/html": "<div>\n<style scoped>\n    .dataframe tbody tr th:only-of-type {\n        vertical-align: middle;\n    }\n\n    .dataframe tbody tr th {\n        vertical-align: top;\n    }\n\n    .dataframe thead th {\n        text-align: right;\n    }\n</style>\n<table border=\"1\" class=\"dataframe\">\n  <thead>\n    <tr style=\"text-align: right;\">\n      <th></th>\n      <th>id</th>\n      <th>date</th>\n      <th>store_nbr</th>\n      <th>family</th>\n      <th>sales</th>\n      <th>onpromotion</th>\n      <th>day</th>\n      <th>year</th>\n      <th>month</th>\n      <th>weekday</th>\n      <th>...</th>\n      <th>family_grouped_Beverages</th>\n      <th>family_grouped_Books &amp; Media</th>\n      <th>family_grouped_Clothing</th>\n      <th>family_grouped_Electronics</th>\n      <th>family_grouped_Groceries</th>\n      <th>family_grouped_Home &amp; Garden</th>\n      <th>family_grouped_Home &amp; Kitchen</th>\n      <th>family_grouped_Occasions &amp; Gifts</th>\n      <th>family_grouped_Office Supplies</th>\n      <th>family_grouped_Pets</th>\n    </tr>\n  </thead>\n  <tbody>\n    <tr>\n      <th>0</th>\n      <td>0</td>\n      <td>2013-01-01</td>\n      <td>1</td>\n      <td>AUTOMOTIVE</td>\n      <td>0.000000</td>\n      <td>0</td>\n      <td>1</td>\n      <td>2013</td>\n      <td>1</td>\n      <td>1</td>\n      <td>...</td>\n      <td>False</td>\n      <td>False</td>\n      <td>False</td>\n      <td>False</td>\n      <td>False</td>\n      <td>False</td>\n      <td>False</td>\n      <td>False</td>\n      <td>False</td>\n      <td>False</td>\n    </tr>\n    <tr>\n      <th>1</th>\n      <td>1</td>\n      <td>2013-01-01</td>\n      <td>1</td>\n      <td>BABY CARE</td>\n      <td>0.000000</td>\n      <td>0</td>\n      <td>1</td>\n      <td>2013</td>\n      <td>1</td>\n      <td>1</td>\n      <td>...</td>\n      <td>False</td>\n      <td>False</td>\n      <td>False</td>\n      <td>False</td>\n      <td>False</td>\n      <td>False</td>\n      <td>False</td>\n      <td>False</td>\n      <td>False</td>\n      <td>False</td>\n    </tr>\n    <tr>\n      <th>2</th>\n      <td>2</td>\n      <td>2013-01-01</td>\n      <td>1</td>\n      <td>BEAUTY</td>\n      <td>0.000000</td>\n      <td>0</td>\n      <td>1</td>\n      <td>2013</td>\n      <td>1</td>\n      <td>1</td>\n      <td>...</td>\n      <td>False</td>\n      <td>False</td>\n      <td>False</td>\n      <td>False</td>\n      <td>False</td>\n      <td>False</td>\n      <td>False</td>\n      <td>False</td>\n      <td>False</td>\n      <td>False</td>\n    </tr>\n    <tr>\n      <th>3</th>\n      <td>3</td>\n      <td>2013-01-01</td>\n      <td>1</td>\n      <td>BEVERAGES</td>\n      <td>0.000000</td>\n      <td>0</td>\n      <td>1</td>\n      <td>2013</td>\n      <td>1</td>\n      <td>1</td>\n      <td>...</td>\n      <td>True</td>\n      <td>False</td>\n      <td>False</td>\n      <td>False</td>\n      <td>False</td>\n      <td>False</td>\n      <td>False</td>\n      <td>False</td>\n      <td>False</td>\n      <td>False</td>\n    </tr>\n    <tr>\n      <th>4</th>\n      <td>4</td>\n      <td>2013-01-01</td>\n      <td>1</td>\n      <td>BOOKS</td>\n      <td>0.000000</td>\n      <td>0</td>\n      <td>1</td>\n      <td>2013</td>\n      <td>1</td>\n      <td>1</td>\n      <td>...</td>\n      <td>False</td>\n      <td>True</td>\n      <td>False</td>\n      <td>False</td>\n      <td>False</td>\n      <td>False</td>\n      <td>False</td>\n      <td>False</td>\n      <td>False</td>\n      <td>False</td>\n    </tr>\n    <tr>\n      <th>...</th>\n      <td>...</td>\n      <td>...</td>\n      <td>...</td>\n      <td>...</td>\n      <td>...</td>\n      <td>...</td>\n      <td>...</td>\n      <td>...</td>\n      <td>...</td>\n      <td>...</td>\n      <td>...</td>\n      <td>...</td>\n      <td>...</td>\n      <td>...</td>\n      <td>...</td>\n      <td>...</td>\n      <td>...</td>\n      <td>...</td>\n      <td>...</td>\n      <td>...</td>\n      <td>...</td>\n    </tr>\n    <tr>\n      <th>3000883</th>\n      <td>3000883</td>\n      <td>2017-08-15</td>\n      <td>9</td>\n      <td>POULTRY</td>\n      <td>6.084802</td>\n      <td>0</td>\n      <td>15</td>\n      <td>2017</td>\n      <td>8</td>\n      <td>1</td>\n      <td>...</td>\n      <td>False</td>\n      <td>False</td>\n      <td>False</td>\n      <td>False</td>\n      <td>True</td>\n      <td>False</td>\n      <td>False</td>\n      <td>False</td>\n      <td>False</td>\n      <td>False</td>\n    </tr>\n    <tr>\n      <th>3000884</th>\n      <td>3000884</td>\n      <td>2017-08-15</td>\n      <td>9</td>\n      <td>PREPARED FOODS</td>\n      <td>5.046987</td>\n      <td>1</td>\n      <td>15</td>\n      <td>2017</td>\n      <td>8</td>\n      <td>1</td>\n      <td>...</td>\n      <td>False</td>\n      <td>False</td>\n      <td>False</td>\n      <td>False</td>\n      <td>True</td>\n      <td>False</td>\n      <td>False</td>\n      <td>False</td>\n      <td>False</td>\n      <td>False</td>\n    </tr>\n    <tr>\n      <th>3000885</th>\n      <td>3000885</td>\n      <td>2017-08-15</td>\n      <td>9</td>\n      <td>PRODUCE</td>\n      <td>7.791824</td>\n      <td>148</td>\n      <td>15</td>\n      <td>2017</td>\n      <td>8</td>\n      <td>1</td>\n      <td>...</td>\n      <td>False</td>\n      <td>False</td>\n      <td>False</td>\n      <td>False</td>\n      <td>True</td>\n      <td>False</td>\n      <td>False</td>\n      <td>False</td>\n      <td>False</td>\n      <td>False</td>\n    </tr>\n    <tr>\n      <th>3000886</th>\n      <td>3000886</td>\n      <td>2017-08-15</td>\n      <td>9</td>\n      <td>SCHOOL AND OFFICE SUPPLIES</td>\n      <td>4.804021</td>\n      <td>8</td>\n      <td>15</td>\n      <td>2017</td>\n      <td>8</td>\n      <td>1</td>\n      <td>...</td>\n      <td>False</td>\n      <td>False</td>\n      <td>False</td>\n      <td>False</td>\n      <td>False</td>\n      <td>False</td>\n      <td>False</td>\n      <td>False</td>\n      <td>True</td>\n      <td>False</td>\n    </tr>\n    <tr>\n      <th>3000887</th>\n      <td>3000887</td>\n      <td>2017-08-15</td>\n      <td>9</td>\n      <td>SEAFOOD</td>\n      <td>2.833213</td>\n      <td>0</td>\n      <td>15</td>\n      <td>2017</td>\n      <td>8</td>\n      <td>1</td>\n      <td>...</td>\n      <td>False</td>\n      <td>False</td>\n      <td>False</td>\n      <td>False</td>\n      <td>True</td>\n      <td>False</td>\n      <td>False</td>\n      <td>False</td>\n      <td>False</td>\n      <td>False</td>\n    </tr>\n  </tbody>\n</table>\n<p>3000888 rows × 23 columns</p>\n</div>"
     },
     "execution_count": 61,
     "metadata": {},
     "output_type": "execute_result"
    }
   ],
   "source": [
    "train"
   ],
   "metadata": {
    "collapsed": false,
    "ExecuteTime": {
     "end_time": "2025-03-28T03:00:32.164868200Z",
     "start_time": "2025-03-28T03:00:31.712320300Z"
    }
   },
   "id": "4eb44edec8a2170b"
  },
  {
   "cell_type": "code",
   "execution_count": 61,
   "outputs": [],
   "source": [],
   "metadata": {
    "collapsed": false,
    "ExecuteTime": {
     "end_time": "2025-03-28T03:00:35.049285200Z",
     "start_time": "2025-03-28T03:00:35.008753600Z"
    }
   },
   "id": "bd551ab2071924b9"
  },
  {
   "cell_type": "code",
   "execution_count": 62,
   "outputs": [],
   "source": [
    "train.drop(columns=col_to_drop, inplace=True)"
   ],
   "metadata": {
    "collapsed": false,
    "ExecuteTime": {
     "end_time": "2025-03-28T03:00:35.548386400Z",
     "start_time": "2025-03-28T03:00:35.446929Z"
    }
   },
   "id": "bbc72addcc5af490"
  },
  {
   "cell_type": "code",
   "execution_count": 63,
   "outputs": [],
   "source": [
    "test.drop(columns=col_to_drop, inplace=True)"
   ],
   "metadata": {
    "collapsed": false,
    "ExecuteTime": {
     "end_time": "2025-03-28T03:00:36.499155400Z",
     "start_time": "2025-03-28T03:00:36.453294900Z"
    }
   },
   "id": "f8463f1980d520d1"
  },
  {
   "cell_type": "code",
   "execution_count": 64,
   "outputs": [
    {
     "name": "stdout",
     "output_type": "stream",
     "text": [
      "<class 'pandas.core.frame.DataFrame'>\n",
      "Index: 3000889 entries, 0 to 3054215\n",
      "Data columns (total 55 columns):\n",
      " #   Column                             Dtype  \n",
      "---  ------                             -----  \n",
      " 0   store_nbr                          int64  \n",
      " 1   sales                              float64\n",
      " 2   onpromotion                        int64  \n",
      " 3   day                                int32  \n",
      " 4   type_x                             int32  \n",
      " 5   is_holiday                         bool   \n",
      " 6   dcoilwtico                         float64\n",
      " 7   type_y                             int32  \n",
      " 8   cluster                            int64  \n",
      " 9   year                               int32  \n",
      " 10  month                              int32  \n",
      " 11  weekday                            int32  \n",
      " 12  is_weekend                         int32  \n",
      " 13  sales_lag_1                        float64\n",
      " 14  sales_lag_7                        float64\n",
      " 15  sales_rolling_mean_7               float64\n",
      " 16  oil_price_change                   float64\n",
      " 17  family_BABY CARE                   bool   \n",
      " 18  family_BEAUTY                      bool   \n",
      " 19  family_BEVERAGES                   bool   \n",
      " 20  family_BOOKS                       bool   \n",
      " 21  family_BREAD/BAKERY                bool   \n",
      " 22  family_CELEBRATION                 bool   \n",
      " 23  family_CLEANING                    bool   \n",
      " 24  family_DAIRY                       bool   \n",
      " 25  family_DELI                        bool   \n",
      " 26  family_EGGS                        bool   \n",
      " 27  family_FROZEN FOODS                bool   \n",
      " 28  family_GROCERY I                   bool   \n",
      " 29  family_GROCERY II                  bool   \n",
      " 30  family_HARDWARE                    bool   \n",
      " 31  family_HOME AND KITCHEN I          bool   \n",
      " 32  family_HOME AND KITCHEN II         bool   \n",
      " 33  family_HOME APPLIANCES             bool   \n",
      " 34  family_HOME CARE                   bool   \n",
      " 35  family_LADIESWEAR                  bool   \n",
      " 36  family_LAWN AND GARDEN             bool   \n",
      " 37  family_LINGERIE                    bool   \n",
      " 38  family_LIQUOR,WINE,BEER            bool   \n",
      " 39  family_MAGAZINES                   bool   \n",
      " 40  family_MEATS                       bool   \n",
      " 41  family_PERSONAL CARE               bool   \n",
      " 42  family_PET SUPPLIES                bool   \n",
      " 43  family_PLAYERS AND ELECTRONICS     bool   \n",
      " 44  family_POULTRY                     bool   \n",
      " 45  family_PREPARED FOODS              bool   \n",
      " 46  family_PRODUCE                     bool   \n",
      " 47  family_SCHOOL AND OFFICE SUPPLIES  bool   \n",
      " 48  family_SEAFOOD                     bool   \n",
      " 49  city_Guayaquil                     bool   \n",
      " 50  city_Machala                       bool   \n",
      " 51  city_Manta                         bool   \n",
      " 52  city_Other                         bool   \n",
      " 53  city_Quito                         bool   \n",
      " 54  city_Santo Domingo                 bool   \n",
      "dtypes: bool(39), float64(6), int32(7), int64(3)\n",
      "memory usage: 420.7 MB\n"
     ]
    }
   ],
   "source": [
    "train_df.info()"
   ],
   "metadata": {
    "collapsed": false,
    "ExecuteTime": {
     "end_time": "2025-03-28T03:00:37.145088800Z",
     "start_time": "2025-03-28T03:00:37.084726400Z"
    }
   },
   "id": "c3f99da4c581d5e7"
  },
  {
   "cell_type": "markdown",
   "source": [
    "## Split data into train and validation sets"
   ],
   "metadata": {
    "collapsed": false
   },
   "id": "5bc4f74124fcc440"
  },
  {
   "cell_type": "code",
   "execution_count": 65,
   "outputs": [],
   "source": [
    "from sklearn.model_selection import train_test_split\n",
    "\n",
    "X = train.drop(columns=[\"sales\"], axis=1)\n",
    "y = train[\"sales\"]\n",
    "X_train, X_val, y_train, y_val = train_test_split(X, y, test_size=0.2, random_state=42)"
   ],
   "metadata": {
    "collapsed": false,
    "ExecuteTime": {
     "end_time": "2025-03-28T03:00:39.385259100Z",
     "start_time": "2025-03-28T03:00:38.411031900Z"
    }
   },
   "id": "3947672c2142553a"
  },
  {
   "cell_type": "markdown",
   "source": [
    "## Train model"
   ],
   "metadata": {
    "collapsed": false
   },
   "id": "9429f305c2be41a6"
  },
  {
   "cell_type": "code",
   "execution_count": 66,
   "outputs": [
    {
     "name": "stderr",
     "output_type": "stream",
     "text": [
      "[Parallel(n_jobs=-1)]: Using backend ThreadingBackend with 12 concurrent workers.\n"
     ]
    },
    {
     "name": "stdout",
     "output_type": "stream",
     "text": [
      "building tree 1 of 50\n",
      "building tree 2 of 50\n",
      "building tree 3 of 50\n",
      "building tree 4 of 50\n",
      "building tree 5 of 50\n",
      "building tree 6 of 50\n",
      "building tree 7 of 50\n",
      "building tree 8 of 50\n",
      "building tree 9 of 50\n",
      "building tree 10 of 50\n",
      "building tree 11 of 50\n",
      "building tree 12 of 50\n",
      "building tree 13 of 50\n",
      "building tree 14 of 50\n",
      "building tree 15 of 50\n",
      "building tree 16 of 50\n",
      "building tree 17 of 50\n",
      "building tree 18 of 50\n",
      "building tree 19 of 50\n",
      "building tree 20 of 50\n",
      "building tree 21 of 50\n",
      "building tree 22 of 50\n",
      "building tree 23 of 50\n",
      "building tree 24 of 50\n",
      "building tree 25 of 50\n",
      "building tree 26 of 50\n",
      "building tree 27 of 50\n",
      "building tree 28 of 50\n",
      "building tree 29 of 50\n"
     ]
    },
    {
     "name": "stderr",
     "output_type": "stream",
     "text": [
      "[Parallel(n_jobs=-1)]: Done  17 tasks      | elapsed:   26.4s\n"
     ]
    },
    {
     "name": "stdout",
     "output_type": "stream",
     "text": [
      "building tree 30 of 50\n",
      "building tree 31 of 50\n",
      "building tree 32 of 50\n",
      "building tree 33 of 50\n",
      "building tree 34 of 50\n",
      "building tree 35 of 50\n",
      "building tree 36 of 50\n",
      "building tree 37 of 50\n",
      "building tree 38 of 50\n",
      "building tree 39 of 50\n",
      "building tree 40 of 50\n",
      "building tree 41 of 50\n",
      "building tree 42 of 50\n",
      "building tree 43 of 50\n",
      "building tree 44 of 50\n",
      "building tree 45 of 50\n",
      "building tree 46 of 50\n",
      "building tree 47 of 50\n",
      "building tree 48 of 50\n",
      "building tree 49 of 50\n",
      "building tree 50 of 50\n"
     ]
    },
    {
     "name": "stderr",
     "output_type": "stream",
     "text": [
      "[Parallel(n_jobs=-1)]: Done  50 out of  50 | elapsed:  1.2min finished\n"
     ]
    },
    {
     "data": {
      "text/plain": "RandomForestRegressor(max_depth=4, min_samples_split=4, n_estimators=50,\n                      n_jobs=-1, verbose=2)",
      "text/html": "<style>#sk-container-id-1 {\n  /* Definition of color scheme common for light and dark mode */\n  --sklearn-color-text: #000;\n  --sklearn-color-text-muted: #666;\n  --sklearn-color-line: gray;\n  /* Definition of color scheme for unfitted estimators */\n  --sklearn-color-unfitted-level-0: #fff5e6;\n  --sklearn-color-unfitted-level-1: #f6e4d2;\n  --sklearn-color-unfitted-level-2: #ffe0b3;\n  --sklearn-color-unfitted-level-3: chocolate;\n  /* Definition of color scheme for fitted estimators */\n  --sklearn-color-fitted-level-0: #f0f8ff;\n  --sklearn-color-fitted-level-1: #d4ebff;\n  --sklearn-color-fitted-level-2: #b3dbfd;\n  --sklearn-color-fitted-level-3: cornflowerblue;\n\n  /* Specific color for light theme */\n  --sklearn-color-text-on-default-background: var(--sg-text-color, var(--theme-code-foreground, var(--jp-content-font-color1, black)));\n  --sklearn-color-background: var(--sg-background-color, var(--theme-background, var(--jp-layout-color0, white)));\n  --sklearn-color-border-box: var(--sg-text-color, var(--theme-code-foreground, var(--jp-content-font-color1, black)));\n  --sklearn-color-icon: #696969;\n\n  @media (prefers-color-scheme: dark) {\n    /* Redefinition of color scheme for dark theme */\n    --sklearn-color-text-on-default-background: var(--sg-text-color, var(--theme-code-foreground, var(--jp-content-font-color1, white)));\n    --sklearn-color-background: var(--sg-background-color, var(--theme-background, var(--jp-layout-color0, #111)));\n    --sklearn-color-border-box: var(--sg-text-color, var(--theme-code-foreground, var(--jp-content-font-color1, white)));\n    --sklearn-color-icon: #878787;\n  }\n}\n\n#sk-container-id-1 {\n  color: var(--sklearn-color-text);\n}\n\n#sk-container-id-1 pre {\n  padding: 0;\n}\n\n#sk-container-id-1 input.sk-hidden--visually {\n  border: 0;\n  clip: rect(1px 1px 1px 1px);\n  clip: rect(1px, 1px, 1px, 1px);\n  height: 1px;\n  margin: -1px;\n  overflow: hidden;\n  padding: 0;\n  position: absolute;\n  width: 1px;\n}\n\n#sk-container-id-1 div.sk-dashed-wrapped {\n  border: 1px dashed var(--sklearn-color-line);\n  margin: 0 0.4em 0.5em 0.4em;\n  box-sizing: border-box;\n  padding-bottom: 0.4em;\n  background-color: var(--sklearn-color-background);\n}\n\n#sk-container-id-1 div.sk-container {\n  /* jupyter's `normalize.less` sets `[hidden] { display: none; }`\n     but bootstrap.min.css set `[hidden] { display: none !important; }`\n     so we also need the `!important` here to be able to override the\n     default hidden behavior on the sphinx rendered scikit-learn.org.\n     See: https://github.com/scikit-learn/scikit-learn/issues/21755 */\n  display: inline-block !important;\n  position: relative;\n}\n\n#sk-container-id-1 div.sk-text-repr-fallback {\n  display: none;\n}\n\ndiv.sk-parallel-item,\ndiv.sk-serial,\ndiv.sk-item {\n  /* draw centered vertical line to link estimators */\n  background-image: linear-gradient(var(--sklearn-color-text-on-default-background), var(--sklearn-color-text-on-default-background));\n  background-size: 2px 100%;\n  background-repeat: no-repeat;\n  background-position: center center;\n}\n\n/* Parallel-specific style estimator block */\n\n#sk-container-id-1 div.sk-parallel-item::after {\n  content: \"\";\n  width: 100%;\n  border-bottom: 2px solid var(--sklearn-color-text-on-default-background);\n  flex-grow: 1;\n}\n\n#sk-container-id-1 div.sk-parallel {\n  display: flex;\n  align-items: stretch;\n  justify-content: center;\n  background-color: var(--sklearn-color-background);\n  position: relative;\n}\n\n#sk-container-id-1 div.sk-parallel-item {\n  display: flex;\n  flex-direction: column;\n}\n\n#sk-container-id-1 div.sk-parallel-item:first-child::after {\n  align-self: flex-end;\n  width: 50%;\n}\n\n#sk-container-id-1 div.sk-parallel-item:last-child::after {\n  align-self: flex-start;\n  width: 50%;\n}\n\n#sk-container-id-1 div.sk-parallel-item:only-child::after {\n  width: 0;\n}\n\n/* Serial-specific style estimator block */\n\n#sk-container-id-1 div.sk-serial {\n  display: flex;\n  flex-direction: column;\n  align-items: center;\n  background-color: var(--sklearn-color-background);\n  padding-right: 1em;\n  padding-left: 1em;\n}\n\n\n/* Toggleable style: style used for estimator/Pipeline/ColumnTransformer box that is\nclickable and can be expanded/collapsed.\n- Pipeline and ColumnTransformer use this feature and define the default style\n- Estimators will overwrite some part of the style using the `sk-estimator` class\n*/\n\n/* Pipeline and ColumnTransformer style (default) */\n\n#sk-container-id-1 div.sk-toggleable {\n  /* Default theme specific background. It is overwritten whether we have a\n  specific estimator or a Pipeline/ColumnTransformer */\n  background-color: var(--sklearn-color-background);\n}\n\n/* Toggleable label */\n#sk-container-id-1 label.sk-toggleable__label {\n  cursor: pointer;\n  display: flex;\n  width: 100%;\n  margin-bottom: 0;\n  padding: 0.5em;\n  box-sizing: border-box;\n  text-align: center;\n  align-items: start;\n  justify-content: space-between;\n  gap: 0.5em;\n}\n\n#sk-container-id-1 label.sk-toggleable__label .caption {\n  font-size: 0.6rem;\n  font-weight: lighter;\n  color: var(--sklearn-color-text-muted);\n}\n\n#sk-container-id-1 label.sk-toggleable__label-arrow:before {\n  /* Arrow on the left of the label */\n  content: \"▸\";\n  float: left;\n  margin-right: 0.25em;\n  color: var(--sklearn-color-icon);\n}\n\n#sk-container-id-1 label.sk-toggleable__label-arrow:hover:before {\n  color: var(--sklearn-color-text);\n}\n\n/* Toggleable content - dropdown */\n\n#sk-container-id-1 div.sk-toggleable__content {\n  max-height: 0;\n  max-width: 0;\n  overflow: hidden;\n  text-align: left;\n  /* unfitted */\n  background-color: var(--sklearn-color-unfitted-level-0);\n}\n\n#sk-container-id-1 div.sk-toggleable__content.fitted {\n  /* fitted */\n  background-color: var(--sklearn-color-fitted-level-0);\n}\n\n#sk-container-id-1 div.sk-toggleable__content pre {\n  margin: 0.2em;\n  border-radius: 0.25em;\n  color: var(--sklearn-color-text);\n  /* unfitted */\n  background-color: var(--sklearn-color-unfitted-level-0);\n}\n\n#sk-container-id-1 div.sk-toggleable__content.fitted pre {\n  /* unfitted */\n  background-color: var(--sklearn-color-fitted-level-0);\n}\n\n#sk-container-id-1 input.sk-toggleable__control:checked~div.sk-toggleable__content {\n  /* Expand drop-down */\n  max-height: 200px;\n  max-width: 100%;\n  overflow: auto;\n}\n\n#sk-container-id-1 input.sk-toggleable__control:checked~label.sk-toggleable__label-arrow:before {\n  content: \"▾\";\n}\n\n/* Pipeline/ColumnTransformer-specific style */\n\n#sk-container-id-1 div.sk-label input.sk-toggleable__control:checked~label.sk-toggleable__label {\n  color: var(--sklearn-color-text);\n  background-color: var(--sklearn-color-unfitted-level-2);\n}\n\n#sk-container-id-1 div.sk-label.fitted input.sk-toggleable__control:checked~label.sk-toggleable__label {\n  background-color: var(--sklearn-color-fitted-level-2);\n}\n\n/* Estimator-specific style */\n\n/* Colorize estimator box */\n#sk-container-id-1 div.sk-estimator input.sk-toggleable__control:checked~label.sk-toggleable__label {\n  /* unfitted */\n  background-color: var(--sklearn-color-unfitted-level-2);\n}\n\n#sk-container-id-1 div.sk-estimator.fitted input.sk-toggleable__control:checked~label.sk-toggleable__label {\n  /* fitted */\n  background-color: var(--sklearn-color-fitted-level-2);\n}\n\n#sk-container-id-1 div.sk-label label.sk-toggleable__label,\n#sk-container-id-1 div.sk-label label {\n  /* The background is the default theme color */\n  color: var(--sklearn-color-text-on-default-background);\n}\n\n/* On hover, darken the color of the background */\n#sk-container-id-1 div.sk-label:hover label.sk-toggleable__label {\n  color: var(--sklearn-color-text);\n  background-color: var(--sklearn-color-unfitted-level-2);\n}\n\n/* Label box, darken color on hover, fitted */\n#sk-container-id-1 div.sk-label.fitted:hover label.sk-toggleable__label.fitted {\n  color: var(--sklearn-color-text);\n  background-color: var(--sklearn-color-fitted-level-2);\n}\n\n/* Estimator label */\n\n#sk-container-id-1 div.sk-label label {\n  font-family: monospace;\n  font-weight: bold;\n  display: inline-block;\n  line-height: 1.2em;\n}\n\n#sk-container-id-1 div.sk-label-container {\n  text-align: center;\n}\n\n/* Estimator-specific */\n#sk-container-id-1 div.sk-estimator {\n  font-family: monospace;\n  border: 1px dotted var(--sklearn-color-border-box);\n  border-radius: 0.25em;\n  box-sizing: border-box;\n  margin-bottom: 0.5em;\n  /* unfitted */\n  background-color: var(--sklearn-color-unfitted-level-0);\n}\n\n#sk-container-id-1 div.sk-estimator.fitted {\n  /* fitted */\n  background-color: var(--sklearn-color-fitted-level-0);\n}\n\n/* on hover */\n#sk-container-id-1 div.sk-estimator:hover {\n  /* unfitted */\n  background-color: var(--sklearn-color-unfitted-level-2);\n}\n\n#sk-container-id-1 div.sk-estimator.fitted:hover {\n  /* fitted */\n  background-color: var(--sklearn-color-fitted-level-2);\n}\n\n/* Specification for estimator info (e.g. \"i\" and \"?\") */\n\n/* Common style for \"i\" and \"?\" */\n\n.sk-estimator-doc-link,\na:link.sk-estimator-doc-link,\na:visited.sk-estimator-doc-link {\n  float: right;\n  font-size: smaller;\n  line-height: 1em;\n  font-family: monospace;\n  background-color: var(--sklearn-color-background);\n  border-radius: 1em;\n  height: 1em;\n  width: 1em;\n  text-decoration: none !important;\n  margin-left: 0.5em;\n  text-align: center;\n  /* unfitted */\n  border: var(--sklearn-color-unfitted-level-1) 1pt solid;\n  color: var(--sklearn-color-unfitted-level-1);\n}\n\n.sk-estimator-doc-link.fitted,\na:link.sk-estimator-doc-link.fitted,\na:visited.sk-estimator-doc-link.fitted {\n  /* fitted */\n  border: var(--sklearn-color-fitted-level-1) 1pt solid;\n  color: var(--sklearn-color-fitted-level-1);\n}\n\n/* On hover */\ndiv.sk-estimator:hover .sk-estimator-doc-link:hover,\n.sk-estimator-doc-link:hover,\ndiv.sk-label-container:hover .sk-estimator-doc-link:hover,\n.sk-estimator-doc-link:hover {\n  /* unfitted */\n  background-color: var(--sklearn-color-unfitted-level-3);\n  color: var(--sklearn-color-background);\n  text-decoration: none;\n}\n\ndiv.sk-estimator.fitted:hover .sk-estimator-doc-link.fitted:hover,\n.sk-estimator-doc-link.fitted:hover,\ndiv.sk-label-container:hover .sk-estimator-doc-link.fitted:hover,\n.sk-estimator-doc-link.fitted:hover {\n  /* fitted */\n  background-color: var(--sklearn-color-fitted-level-3);\n  color: var(--sklearn-color-background);\n  text-decoration: none;\n}\n\n/* Span, style for the box shown on hovering the info icon */\n.sk-estimator-doc-link span {\n  display: none;\n  z-index: 9999;\n  position: relative;\n  font-weight: normal;\n  right: .2ex;\n  padding: .5ex;\n  margin: .5ex;\n  width: min-content;\n  min-width: 20ex;\n  max-width: 50ex;\n  color: var(--sklearn-color-text);\n  box-shadow: 2pt 2pt 4pt #999;\n  /* unfitted */\n  background: var(--sklearn-color-unfitted-level-0);\n  border: .5pt solid var(--sklearn-color-unfitted-level-3);\n}\n\n.sk-estimator-doc-link.fitted span {\n  /* fitted */\n  background: var(--sklearn-color-fitted-level-0);\n  border: var(--sklearn-color-fitted-level-3);\n}\n\n.sk-estimator-doc-link:hover span {\n  display: block;\n}\n\n/* \"?\"-specific style due to the `<a>` HTML tag */\n\n#sk-container-id-1 a.estimator_doc_link {\n  float: right;\n  font-size: 1rem;\n  line-height: 1em;\n  font-family: monospace;\n  background-color: var(--sklearn-color-background);\n  border-radius: 1rem;\n  height: 1rem;\n  width: 1rem;\n  text-decoration: none;\n  /* unfitted */\n  color: var(--sklearn-color-unfitted-level-1);\n  border: var(--sklearn-color-unfitted-level-1) 1pt solid;\n}\n\n#sk-container-id-1 a.estimator_doc_link.fitted {\n  /* fitted */\n  border: var(--sklearn-color-fitted-level-1) 1pt solid;\n  color: var(--sklearn-color-fitted-level-1);\n}\n\n/* On hover */\n#sk-container-id-1 a.estimator_doc_link:hover {\n  /* unfitted */\n  background-color: var(--sklearn-color-unfitted-level-3);\n  color: var(--sklearn-color-background);\n  text-decoration: none;\n}\n\n#sk-container-id-1 a.estimator_doc_link.fitted:hover {\n  /* fitted */\n  background-color: var(--sklearn-color-fitted-level-3);\n}\n</style><div id=\"sk-container-id-1\" class=\"sk-top-container\"><div class=\"sk-text-repr-fallback\"><pre>RandomForestRegressor(max_depth=4, min_samples_split=4, n_estimators=50,\n                      n_jobs=-1, verbose=2)</pre><b>In a Jupyter environment, please rerun this cell to show the HTML representation or trust the notebook. <br />On GitHub, the HTML representation is unable to render, please try loading this page with nbviewer.org.</b></div><div class=\"sk-container\" hidden><div class=\"sk-item\"><div class=\"sk-estimator fitted sk-toggleable\"><input class=\"sk-toggleable__control sk-hidden--visually\" id=\"sk-estimator-id-1\" type=\"checkbox\" checked><label for=\"sk-estimator-id-1\" class=\"sk-toggleable__label fitted sk-toggleable__label-arrow\"><div><div>RandomForestRegressor</div></div><div><a class=\"sk-estimator-doc-link fitted\" rel=\"noreferrer\" target=\"_blank\" href=\"https://scikit-learn.org/1.6/modules/generated/sklearn.ensemble.RandomForestRegressor.html\">?<span>Documentation for RandomForestRegressor</span></a><span class=\"sk-estimator-doc-link fitted\">i<span>Fitted</span></span></div></label><div class=\"sk-toggleable__content fitted\"><pre>RandomForestRegressor(max_depth=4, min_samples_split=4, n_estimators=50,\n                      n_jobs=-1, verbose=2)</pre></div> </div></div></div></div>"
     },
     "execution_count": 66,
     "metadata": {},
     "output_type": "execute_result"
    }
   ],
   "source": [
    "from sklearn.ensemble import RandomForestRegressor\n",
    "\n",
    "# from sklearn.model_selection import RandomizedSearchCV\n",
    "# \n",
    "# params = {\n",
    "#     \"n_estimators\": np.arange(50, 150, 50),  # Smaller number of trees\n",
    "#     \"max_depth\": [5, 10],  # Smaller depth values\n",
    "#     \"min_samples_split\": [2, 4]  # Fewer options\n",
    "# }\n",
    "# rf = RandomForestRegressor()\n",
    "# \n",
    "# random_search = RandomizedSearchCV(rf, params, n_iter=3, cv=None, verbose=2, n_jobs=-1)\n",
    "# \n",
    "# \n",
    "# random_search.fit(X_train_pca, y_train)\n",
    "\n",
    "\n",
    "rf = RandomForestRegressor(n_estimators=50, max_depth=4, min_samples_split=4, n_jobs=-1, verbose=2)\n",
    "rf.fit(X_train, y_train)\n"
   ],
   "metadata": {
    "collapsed": false,
    "ExecuteTime": {
     "end_time": "2025-03-28T03:01:55.959943700Z",
     "start_time": "2025-03-28T03:00:40.427627900Z"
    }
   },
   "id": "6953510bde2dd230"
  },
  {
   "cell_type": "markdown",
   "source": [
    "## Evaluate model"
   ],
   "metadata": {
    "collapsed": false
   },
   "id": "693737a0d25f576e"
  },
  {
   "cell_type": "code",
   "execution_count": 67,
   "outputs": [
    {
     "name": "stderr",
     "output_type": "stream",
     "text": [
      "[Parallel(n_jobs=12)]: Using backend ThreadingBackend with 12 concurrent workers.\n",
      "[Parallel(n_jobs=12)]: Done  17 tasks      | elapsed:    0.0s\n",
      "[Parallel(n_jobs=12)]: Done  50 out of  50 | elapsed:    0.1s finished\n"
     ]
    }
   ],
   "source": [
    "y_pred = rf.predict(X_val)"
   ],
   "metadata": {
    "collapsed": false,
    "ExecuteTime": {
     "end_time": "2025-03-28T03:09:10.764677Z",
     "start_time": "2025-03-28T03:09:10.469138300Z"
    }
   },
   "id": "608a807c82d6b1fa"
  },
  {
   "cell_type": "code",
   "execution_count": 68,
   "outputs": [
    {
     "name": "stdout",
     "output_type": "stream",
     "text": [
      "RMSE: 1.778238208461306\n",
      "R2: 0.5651418419049867\n"
     ]
    }
   ],
   "source": [
    "from sklearn.metrics import mean_squared_error, r2_score\n",
    "\n",
    "mse = mean_squared_error(y_pred, y_val)\n",
    "rmse = np.sqrt(mse)\n",
    "r2 = r2_score(y_val, y_pred)\n",
    "\n",
    "print(f\"RMSE: {rmse}\")\n",
    "print(f\"R2: {r2}\")"
   ],
   "metadata": {
    "collapsed": false,
    "ExecuteTime": {
     "end_time": "2025-03-28T03:09:13.444130800Z",
     "start_time": "2025-03-28T03:09:13.370441700Z"
    }
   },
   "id": "5b77fe604d1d08d"
  },
  {
   "cell_type": "markdown",
   "source": [
    "## Prediction model"
   ],
   "metadata": {
    "collapsed": false
   },
   "id": "32b2a2265971b37"
  },
  {
   "cell_type": "code",
   "execution_count": 69,
   "outputs": [
    {
     "name": "stderr",
     "output_type": "stream",
     "text": [
      "[Parallel(n_jobs=12)]: Using backend ThreadingBackend with 12 concurrent workers.\n",
      "[Parallel(n_jobs=12)]: Done  17 tasks      | elapsed:    0.0s\n",
      "[Parallel(n_jobs=12)]: Done  50 out of  50 | elapsed:    0.0s finished\n"
     ]
    }
   ],
   "source": [
    "y_pred = rf.predict(test)"
   ],
   "metadata": {
    "collapsed": false,
    "ExecuteTime": {
     "end_time": "2025-03-28T03:09:14.900153300Z",
     "start_time": "2025-03-28T03:09:14.833203700Z"
    }
   },
   "id": "31fbcc4221669be9"
  },
  {
   "cell_type": "markdown",
   "source": [
    "## Save model prediction to submission file"
   ],
   "metadata": {
    "collapsed": false
   },
   "id": "6a538e801e9e9ff0"
  },
  {
   "cell_type": "code",
   "execution_count": 70,
   "outputs": [],
   "source": [
    "submission = pd.read_csv(\"sample_submission.csv\")\n",
    "submission[\"sales\"] = y_pred\n",
    "submission.to_csv(\"submission.csv\", index=False)"
   ],
   "metadata": {
    "collapsed": false,
    "ExecuteTime": {
     "end_time": "2025-03-28T03:09:17.440544400Z",
     "start_time": "2025-03-28T03:09:17.328077100Z"
    }
   },
   "id": "ca49ccc3c2bc7f4a"
  },
  {
   "cell_type": "markdown",
   "source": [
    "# Use XGboost "
   ],
   "metadata": {
    "collapsed": false
   },
   "id": "27569e1d843b5718"
  },
  {
   "cell_type": "code",
   "execution_count": 74,
   "outputs": [
    {
     "name": "stderr",
     "output_type": "stream",
     "text": [
      "C:\\Users\\faresaboagour\\AppData\\Local\\anaconda3\\envs\\MachineLearning\\Lib\\site-packages\\xgboost\\core.py:158: UserWarning: [05:16:31] WARNING: C:\\buildkite-agent\\builds\\buildkite-windows-cpu-autoscaling-group-i-08cbc0333d8d4aae1-1\\xgboost\\xgboost-ci-windows\\src\\learner.cc:740: \n",
      "Parameters: { \"verbose\" } are not used.\n",
      "\n",
      "  warnings.warn(smsg, UserWarning)\n"
     ]
    },
    {
     "name": "stdout",
     "output_type": "stream",
     "text": [
      "RMSE: 1.6054197968581083\n",
      "R2: 0.645558166035924\n"
     ]
    }
   ],
   "source": [
    "from xgboost import XGBRFRegressor\n",
    "\n",
    "xgb = XGBRFRegressor(n_estimators=550, max_depth=8, min_child_weight=6, n_jobs=-1, verbose=2)\n",
    "xgb.fit(X_train, y_train)\n",
    "y_pred = xgb.predict(X_val)\n",
    "mse = mean_squared_error(y_pred, y_val)\n",
    "rmse = np.sqrt(mse)\n",
    "r2 = r2_score(y_val, y_pred)\n",
    "\n",
    "print(f\"RMSE: {rmse}\")\n",
    "print(f\"R2: {r2}\")"
   ],
   "metadata": {
    "collapsed": false,
    "ExecuteTime": {
     "end_time": "2025-03-28T03:18:29.806494600Z",
     "start_time": "2025-03-28T03:16:30.414108200Z"
    }
   },
   "id": "7161879aae14183c"
  },
  {
   "cell_type": "code",
   "execution_count": 75,
   "outputs": [],
   "source": [
    "y_pred = xgb.predict(test)"
   ],
   "metadata": {
    "collapsed": false,
    "ExecuteTime": {
     "end_time": "2025-03-28T03:26:24.943485Z",
     "start_time": "2025-03-28T03:26:24.823138400Z"
    }
   },
   "id": "d74be2fd4f544406"
  },
  {
   "cell_type": "code",
   "execution_count": 76,
   "outputs": [],
   "source": [
    "submission = pd.read_csv(\"sample_submission.csv\")\n",
    "submission[\"sales\"] = y_pred\n",
    "submission.to_csv(\"submission.csv\", index=False)"
   ],
   "metadata": {
    "collapsed": false,
    "ExecuteTime": {
     "end_time": "2025-03-28T03:26:25.576314500Z",
     "start_time": "2025-03-28T03:26:25.483164400Z"
    }
   },
   "id": "1b8b6c691b447420"
  },
  {
   "cell_type": "code",
   "execution_count": null,
   "outputs": [],
   "source": [],
   "metadata": {
    "collapsed": false
   },
   "id": "55935e9ca0d6976"
  }
 ],
 "metadata": {
  "kernelspec": {
   "display_name": "Python 3",
   "language": "python",
   "name": "python3"
  },
  "language_info": {
   "codemirror_mode": {
    "name": "ipython",
    "version": 2
   },
   "file_extension": ".py",
   "mimetype": "text/x-python",
   "name": "python",
   "nbconvert_exporter": "python",
   "pygments_lexer": "ipython2",
   "version": "2.7.6"
  }
 },
 "nbformat": 4,
 "nbformat_minor": 5
}
