{
 "cells": [
  {
   "cell_type": "code",
   "execution_count": 2,
   "id": "initial_id",
   "metadata": {
    "collapsed": true,
    "ExecuteTime": {
     "end_time": "2025-03-21T15:38:01.832114700Z",
     "start_time": "2025-03-21T15:38:01.823441500Z"
    }
   },
   "outputs": [],
   "source": [
    "import pandas as pd\n",
    "import numpy as np\n",
    "import matplotlib.pyplot as plt\n",
    "import seaborn as sns"
   ]
  },
  {
   "cell_type": "markdown",
   "source": [
    "## Loading Data"
   ],
   "metadata": {
    "collapsed": false
   },
   "id": "f017f18efa8915cf"
  },
  {
   "cell_type": "code",
   "execution_count": 3,
   "outputs": [],
   "source": [
    "train = pd.read_csv('train.csv')\n",
    "test = pd.read_csv('test.csv')\n",
    "\n",
    "holidays = pd.read_csv('holidays_events.csv')\n",
    "stores = pd.read_csv('stores.csv')\n",
    "oil = pd.read_csv('oil.csv')\n",
    "transactions = pd.read_csv('transactions.csv')"
   ],
   "metadata": {
    "collapsed": false,
    "ExecuteTime": {
     "end_time": "2025-03-21T15:39:03.721201300Z",
     "start_time": "2025-03-21T15:39:00.910104400Z"
    }
   },
   "id": "5bd85de166dba743"
  },
  {
   "cell_type": "code",
   "execution_count": 5,
   "outputs": [
    {
     "data": {
      "text/plain": "              id        date  store_nbr                   family  sales  \\\n571271    571271  2013-11-17         38                    DAIRY  937.0   \n2653326  2653326  2017-02-01          7  PLAYERS AND ELECTRONICS   12.0   \n1698557  1698557  2015-08-14         18                 HARDWARE    1.0   \n1558565  1558565  2015-05-27          4                    DAIRY  781.0   \n1078553  1078553  2014-08-30         21                 HARDWARE    0.0   \n\n         onpromotion  \n571271             0  \n2653326            0  \n1698557            0  \n1558565            2  \n1078553            0  ",
      "text/html": "<div>\n<style scoped>\n    .dataframe tbody tr th:only-of-type {\n        vertical-align: middle;\n    }\n\n    .dataframe tbody tr th {\n        vertical-align: top;\n    }\n\n    .dataframe thead th {\n        text-align: right;\n    }\n</style>\n<table border=\"1\" class=\"dataframe\">\n  <thead>\n    <tr style=\"text-align: right;\">\n      <th></th>\n      <th>id</th>\n      <th>date</th>\n      <th>store_nbr</th>\n      <th>family</th>\n      <th>sales</th>\n      <th>onpromotion</th>\n    </tr>\n  </thead>\n  <tbody>\n    <tr>\n      <th>571271</th>\n      <td>571271</td>\n      <td>2013-11-17</td>\n      <td>38</td>\n      <td>DAIRY</td>\n      <td>937.0</td>\n      <td>0</td>\n    </tr>\n    <tr>\n      <th>2653326</th>\n      <td>2653326</td>\n      <td>2017-02-01</td>\n      <td>7</td>\n      <td>PLAYERS AND ELECTRONICS</td>\n      <td>12.0</td>\n      <td>0</td>\n    </tr>\n    <tr>\n      <th>1698557</th>\n      <td>1698557</td>\n      <td>2015-08-14</td>\n      <td>18</td>\n      <td>HARDWARE</td>\n      <td>1.0</td>\n      <td>0</td>\n    </tr>\n    <tr>\n      <th>1558565</th>\n      <td>1558565</td>\n      <td>2015-05-27</td>\n      <td>4</td>\n      <td>DAIRY</td>\n      <td>781.0</td>\n      <td>2</td>\n    </tr>\n    <tr>\n      <th>1078553</th>\n      <td>1078553</td>\n      <td>2014-08-30</td>\n      <td>21</td>\n      <td>HARDWARE</td>\n      <td>0.0</td>\n      <td>0</td>\n    </tr>\n  </tbody>\n</table>\n</div>"
     },
     "execution_count": 5,
     "metadata": {},
     "output_type": "execute_result"
    }
   ],
   "source": [
    "train.sample(5)"
   ],
   "metadata": {
    "collapsed": false,
    "ExecuteTime": {
     "end_time": "2025-03-21T15:54:46.385849Z",
     "start_time": "2025-03-21T15:54:46.197062400Z"
    }
   },
   "id": "8fedfc9e46619a38"
  },
  {
   "cell_type": "markdown",
   "source": [
    "## Exploring Data"
   ],
   "metadata": {
    "collapsed": false
   },
   "id": "b0b62163cbe6e11b"
  },
  {
   "cell_type": "markdown",
   "source": [],
   "metadata": {
    "collapsed": false
   },
   "id": "da8498c4d0a65290"
  },
  {
   "cell_type": "code",
   "execution_count": 18,
   "outputs": [
    {
     "name": "stdout",
     "output_type": "stream",
     "text": [
      "train\n",
      "<class 'pandas.core.frame.DataFrame'>\n",
      "RangeIndex: 3000888 entries, 0 to 3000887\n",
      "Data columns (total 6 columns):\n",
      " #   Column       Dtype         \n",
      "---  ------       -----         \n",
      " 0   id           int64         \n",
      " 1   date         datetime64[ns]\n",
      " 2   store_nbr    int64         \n",
      " 3   family       object        \n",
      " 4   sales        float64       \n",
      " 5   onpromotion  int64         \n",
      "dtypes: datetime64[ns](1), float64(1), int64(3), object(1)\n",
      "memory usage: 137.4+ MB\n",
      "None\n",
      "-----------------------------------\n",
      "test\n",
      "<class 'pandas.core.frame.DataFrame'>\n",
      "RangeIndex: 28512 entries, 0 to 28511\n",
      "Data columns (total 5 columns):\n",
      " #   Column       Non-Null Count  Dtype         \n",
      "---  ------       --------------  -----         \n",
      " 0   id           28512 non-null  int64         \n",
      " 1   date         28512 non-null  datetime64[ns]\n",
      " 2   store_nbr    28512 non-null  int64         \n",
      " 3   family       28512 non-null  object        \n",
      " 4   onpromotion  28512 non-null  int64         \n",
      "dtypes: datetime64[ns](1), int64(3), object(1)\n",
      "memory usage: 1.1+ MB\n",
      "None\n",
      "-----------------------------------\n",
      "holidays\n",
      "<class 'pandas.core.frame.DataFrame'>\n",
      "RangeIndex: 350 entries, 0 to 349\n",
      "Data columns (total 6 columns):\n",
      " #   Column       Non-Null Count  Dtype         \n",
      "---  ------       --------------  -----         \n",
      " 0   date         350 non-null    datetime64[ns]\n",
      " 1   type         350 non-null    object        \n",
      " 2   locale       350 non-null    object        \n",
      " 3   locale_name  350 non-null    object        \n",
      " 4   description  350 non-null    object        \n",
      " 5   transferred  350 non-null    bool          \n",
      "dtypes: bool(1), datetime64[ns](1), object(4)\n",
      "memory usage: 14.1+ KB\n",
      "None\n",
      "-----------------------------------\n",
      "stores\n",
      "<class 'pandas.core.frame.DataFrame'>\n",
      "RangeIndex: 54 entries, 0 to 53\n",
      "Data columns (total 5 columns):\n",
      " #   Column     Non-Null Count  Dtype \n",
      "---  ------     --------------  ----- \n",
      " 0   store_nbr  54 non-null     int64 \n",
      " 1   city       54 non-null     object\n",
      " 2   state      54 non-null     object\n",
      " 3   type       54 non-null     object\n",
      " 4   cluster    54 non-null     int64 \n",
      "dtypes: int64(2), object(3)\n",
      "memory usage: 2.2+ KB\n",
      "None\n",
      "-----------------------------------\n",
      "oil\n",
      "<class 'pandas.core.frame.DataFrame'>\n",
      "RangeIndex: 1218 entries, 0 to 1217\n",
      "Data columns (total 2 columns):\n",
      " #   Column      Non-Null Count  Dtype         \n",
      "---  ------      --------------  -----         \n",
      " 0   date        1218 non-null   datetime64[ns]\n",
      " 1   dcoilwtico  1217 non-null   float64       \n",
      "dtypes: datetime64[ns](1), float64(1)\n",
      "memory usage: 19.2 KB\n",
      "None\n",
      "-----------------------------------\n",
      "transactions\n",
      "<class 'pandas.core.frame.DataFrame'>\n",
      "RangeIndex: 83488 entries, 0 to 83487\n",
      "Data columns (total 3 columns):\n",
      " #   Column        Non-Null Count  Dtype         \n",
      "---  ------        --------------  -----         \n",
      " 0   date          83488 non-null  datetime64[ns]\n",
      " 1   store_nbr     83488 non-null  int64         \n",
      " 2   transactions  83488 non-null  int64         \n",
      "dtypes: datetime64[ns](1), int64(2)\n",
      "memory usage: 1.9 MB\n",
      "None\n",
      "-----------------------------------\n"
     ]
    }
   ],
   "source": [
    "all_df = [train, test, holidays, stores, oil, transactions]\n",
    "names_df = ['train', 'test', 'holidays', 'stores', 'oil', 'transactions']\n",
    "for df, name in zip(all_df, names_df):\n",
    "    print(name)\n",
    "    print(df.info())\n",
    "    print('-----------------------------------')"
   ],
   "metadata": {
    "collapsed": false,
    "ExecuteTime": {
     "end_time": "2025-03-21T16:10:51.037058Z",
     "start_time": "2025-03-21T16:10:50.990316300Z"
    }
   },
   "id": "40add57a24c5dfe0"
  },
  {
   "cell_type": "code",
   "execution_count": 10,
   "outputs": [
    {
     "name": "stdout",
     "output_type": "stream",
     "text": [
      "train\n",
      "                 id     store_nbr         sales   onpromotion\n",
      "count  3.000888e+06  3.000888e+06  3.000888e+06  3.000888e+06\n",
      "mean   1.500444e+06  2.750000e+01  3.577757e+02  2.602770e+00\n",
      "std    8.662819e+05  1.558579e+01  1.101998e+03  1.221888e+01\n",
      "min    0.000000e+00  1.000000e+00  0.000000e+00  0.000000e+00\n",
      "25%    7.502218e+05  1.400000e+01  0.000000e+00  0.000000e+00\n",
      "50%    1.500444e+06  2.750000e+01  1.100000e+01  0.000000e+00\n",
      "75%    2.250665e+06  4.100000e+01  1.958473e+02  0.000000e+00\n",
      "max    3.000887e+06  5.400000e+01  1.247170e+05  7.410000e+02\n",
      "-----------------------------------\n",
      "test\n",
      "                 id     store_nbr   onpromotion\n",
      "count  2.851200e+04  28512.000000  28512.000000\n",
      "mean   3.015144e+06     27.500000      6.965383\n",
      "std    8.230850e+03     15.586057     20.683952\n",
      "min    3.000888e+06      1.000000      0.000000\n",
      "25%    3.008016e+06     14.000000      0.000000\n",
      "50%    3.015144e+06     27.500000      0.000000\n",
      "75%    3.022271e+06     41.000000      6.000000\n",
      "max    3.029399e+06     54.000000    646.000000\n",
      "-----------------------------------\n",
      "holidays\n",
      "              date     type    locale locale_name description transferred\n",
      "count          350      350       350         350         350         350\n",
      "unique         312        6         3          24         103           2\n",
      "top     2014-06-25  Holiday  National     Ecuador    Carnaval       False\n",
      "freq             4      221       174         174          10         338\n",
      "-----------------------------------\n",
      "stores\n",
      "       store_nbr    cluster\n",
      "count  54.000000  54.000000\n",
      "mean   27.500000   8.481481\n",
      "std    15.732133   4.693395\n",
      "min     1.000000   1.000000\n",
      "25%    14.250000   4.000000\n",
      "50%    27.500000   8.500000\n",
      "75%    40.750000  13.000000\n",
      "max    54.000000  17.000000\n",
      "-----------------------------------\n",
      "oil\n",
      "        dcoilwtico\n",
      "count  1175.000000\n",
      "mean     67.714366\n",
      "std      25.630476\n",
      "min      26.190000\n",
      "25%      46.405000\n",
      "50%      53.190000\n",
      "75%      95.660000\n",
      "max     110.620000\n",
      "-----------------------------------\n",
      "transactions\n",
      "          store_nbr  transactions\n",
      "count  83488.000000  83488.000000\n",
      "mean      26.939237   1694.602158\n",
      "std       15.608204    963.286644\n",
      "min        1.000000      5.000000\n",
      "25%       13.000000   1046.000000\n",
      "50%       27.000000   1393.000000\n",
      "75%       40.000000   2079.000000\n",
      "max       54.000000   8359.000000\n",
      "-----------------------------------\n"
     ]
    }
   ],
   "source": [
    "for df, name in zip(all_df, names_df):\n",
    "    print(name)\n",
    "    print(df.describe())\n",
    "    print('-----------------------------------')"
   ],
   "metadata": {
    "collapsed": false,
    "ExecuteTime": {
     "end_time": "2025-03-21T16:02:16.806880400Z",
     "start_time": "2025-03-21T16:02:16.525487400Z"
    }
   },
   "id": "57ad4aaec4c2f05e"
  },
  {
   "cell_type": "code",
   "execution_count": 12,
   "outputs": [
    {
     "name": "stdout",
     "output_type": "stream",
     "text": [
      "train\n",
      "0\n",
      "-----------------------------------\n",
      "test\n",
      "0\n",
      "-----------------------------------\n",
      "holidays\n",
      "0\n",
      "-----------------------------------\n",
      "stores\n",
      "0\n",
      "-----------------------------------\n",
      "oil\n",
      "0\n",
      "-----------------------------------\n",
      "transactions\n",
      "0\n",
      "-----------------------------------\n"
     ]
    }
   ],
   "source": [
    "for df, name in zip(all_df, names_df):\n",
    "    print(name)\n",
    "    print(df.duplicated().sum())\n",
    "    print('-----------------------------------')"
   ],
   "metadata": {
    "collapsed": false,
    "ExecuteTime": {
     "end_time": "2025-03-21T16:04:55.860791700Z",
     "start_time": "2025-03-21T16:04:54.857328300Z"
    }
   },
   "id": "757e09728ea086eb"
  },
  {
   "cell_type": "code",
   "execution_count": 11,
   "outputs": [
    {
     "name": "stdout",
     "output_type": "stream",
     "text": [
      "train\n",
      "id             0\n",
      "date           0\n",
      "store_nbr      0\n",
      "family         0\n",
      "sales          0\n",
      "onpromotion    0\n",
      "dtype: int64\n",
      "-----------------------------------\n",
      "test\n",
      "id             0\n",
      "date           0\n",
      "store_nbr      0\n",
      "family         0\n",
      "onpromotion    0\n",
      "dtype: int64\n",
      "-----------------------------------\n",
      "holidays\n",
      "date           0\n",
      "type           0\n",
      "locale         0\n",
      "locale_name    0\n",
      "description    0\n",
      "transferred    0\n",
      "dtype: int64\n",
      "-----------------------------------\n",
      "stores\n",
      "store_nbr    0\n",
      "city         0\n",
      "state        0\n",
      "type         0\n",
      "cluster      0\n",
      "dtype: int64\n",
      "-----------------------------------\n",
      "oil\n",
      "date           0\n",
      "dcoilwtico    43\n",
      "dtype: int64\n",
      "-----------------------------------\n",
      "transactions\n",
      "date            0\n",
      "store_nbr       0\n",
      "transactions    0\n",
      "dtype: int64\n",
      "-----------------------------------\n"
     ]
    }
   ],
   "source": [
    "for df, name in zip(all_df, names_df):\n",
    "    print(name)\n",
    "    print(df.isnull().sum())\n",
    "    print('-----------------------------------')"
   ],
   "metadata": {
    "collapsed": false,
    "ExecuteTime": {
     "start_time": "2025-03-21T16:04:40.009707800Z"
    }
   },
   "id": "c4fe5b44c5b06ea"
  },
  {
   "cell_type": "markdown",
   "source": [
    "## Data Cleaning"
   ],
   "metadata": {
    "collapsed": false
   },
   "id": "73a88b634c3b3b96"
  },
  {
   "cell_type": "markdown",
   "source": [
    "### Fix Date data type to be datetime instead of object"
   ],
   "metadata": {
    "collapsed": false
   },
   "id": "7e33e153ebbb3f0f"
  },
  {
   "cell_type": "code",
   "execution_count": 19,
   "outputs": [],
   "source": [
    "for df, name in zip(all_df, names_df):\n",
    "    if \"date\" in df.columns:\n",
    "        df['date'] = pd.to_datetime(df['date'])"
   ],
   "metadata": {
    "collapsed": false,
    "ExecuteTime": {
     "end_time": "2025-03-21T16:11:08.028925Z",
     "start_time": "2025-03-21T16:11:07.901360100Z"
    }
   },
   "id": "b5541904b9c0f02"
  },
  {
   "cell_type": "markdown",
   "source": [
    "### Fill missing values in oil data using forward fill method"
   ],
   "metadata": {
    "collapsed": false
   },
   "id": "10e967fd4a8c52"
  },
  {
   "cell_type": "code",
   "execution_count": 21,
   "outputs": [
    {
     "data": {
      "text/plain": "           date  dcoilwtico\n0    2013-01-01       93.14\n1    2013-01-02       93.14\n2    2013-01-03       92.97\n3    2013-01-04       93.12\n4    2013-01-07       93.20\n...         ...         ...\n1213 2017-08-25       47.65\n1214 2017-08-28       46.40\n1215 2017-08-29       46.46\n1216 2017-08-30       45.96\n1217 2017-08-31       47.26\n\n[1218 rows x 2 columns]",
      "text/html": "<div>\n<style scoped>\n    .dataframe tbody tr th:only-of-type {\n        vertical-align: middle;\n    }\n\n    .dataframe tbody tr th {\n        vertical-align: top;\n    }\n\n    .dataframe thead th {\n        text-align: right;\n    }\n</style>\n<table border=\"1\" class=\"dataframe\">\n  <thead>\n    <tr style=\"text-align: right;\">\n      <th></th>\n      <th>date</th>\n      <th>dcoilwtico</th>\n    </tr>\n  </thead>\n  <tbody>\n    <tr>\n      <th>0</th>\n      <td>2013-01-01</td>\n      <td>93.14</td>\n    </tr>\n    <tr>\n      <th>1</th>\n      <td>2013-01-02</td>\n      <td>93.14</td>\n    </tr>\n    <tr>\n      <th>2</th>\n      <td>2013-01-03</td>\n      <td>92.97</td>\n    </tr>\n    <tr>\n      <th>3</th>\n      <td>2013-01-04</td>\n      <td>93.12</td>\n    </tr>\n    <tr>\n      <th>4</th>\n      <td>2013-01-07</td>\n      <td>93.20</td>\n    </tr>\n    <tr>\n      <th>...</th>\n      <td>...</td>\n      <td>...</td>\n    </tr>\n    <tr>\n      <th>1213</th>\n      <td>2017-08-25</td>\n      <td>47.65</td>\n    </tr>\n    <tr>\n      <th>1214</th>\n      <td>2017-08-28</td>\n      <td>46.40</td>\n    </tr>\n    <tr>\n      <th>1215</th>\n      <td>2017-08-29</td>\n      <td>46.46</td>\n    </tr>\n    <tr>\n      <th>1216</th>\n      <td>2017-08-30</td>\n      <td>45.96</td>\n    </tr>\n    <tr>\n      <th>1217</th>\n      <td>2017-08-31</td>\n      <td>47.26</td>\n    </tr>\n  </tbody>\n</table>\n<p>1218 rows × 2 columns</p>\n</div>"
     },
     "execution_count": 21,
     "metadata": {},
     "output_type": "execute_result"
    }
   ],
   "source": [
    "oil"
   ],
   "metadata": {
    "collapsed": false,
    "ExecuteTime": {
     "end_time": "2025-03-21T16:11:43.264573700Z",
     "start_time": "2025-03-21T16:11:43.254141700Z"
    }
   },
   "id": "14b218c7f7f4815c"
  },
  {
   "cell_type": "code",
   "execution_count": 16,
   "outputs": [
    {
     "name": "stderr",
     "output_type": "stream",
     "text": [
      "C:\\Users\\faresaboagour\\AppData\\Local\\Temp\\ipykernel_1188\\96925069.py:1: FutureWarning: A value is trying to be set on a copy of a DataFrame or Series through chained assignment using an inplace method.\n",
      "The behavior will change in pandas 3.0. This inplace method will never work because the intermediate object on which we are setting values always behaves as a copy.\n",
      "\n",
      "For example, when doing 'df[col].method(value, inplace=True)', try using 'df.method({col: value}, inplace=True)' or df[col] = df[col].method(value) instead, to perform the operation inplace on the original object.\n",
      "\n",
      "\n",
      "  oil[\"dcoilwtico\"].fillna(method=\"ffill\", inplace=True)\n",
      "C:\\Users\\faresaboagour\\AppData\\Local\\Temp\\ipykernel_1188\\96925069.py:1: FutureWarning: Series.fillna with 'method' is deprecated and will raise in a future version. Use obj.ffill() or obj.bfill() instead.\n",
      "  oil[\"dcoilwtico\"].fillna(method=\"ffill\", inplace=True)\n"
     ]
    }
   ],
   "source": [
    "oil[\"dcoilwtico\"].fillna(method=\"ffill\", inplace=True)"
   ],
   "metadata": {
    "collapsed": false,
    "ExecuteTime": {
     "end_time": "2025-03-21T16:07:51.467592300Z",
     "start_time": "2025-03-21T16:07:51.439235300Z"
    }
   },
   "id": "608b7d74d3bc0b80"
  },
  {
   "cell_type": "markdown",
   "source": [
    "### Use backward fill method to fill the beginning missing values in oil data"
   ],
   "metadata": {
    "collapsed": false
   },
   "id": "4c19021069567830"
  },
  {
   "cell_type": "code",
   "execution_count": 20,
   "outputs": [
    {
     "name": "stderr",
     "output_type": "stream",
     "text": [
      "C:\\Users\\faresaboagour\\AppData\\Local\\Temp\\ipykernel_1188\\669572655.py:1: FutureWarning: A value is trying to be set on a copy of a DataFrame or Series through chained assignment using an inplace method.\n",
      "The behavior will change in pandas 3.0. This inplace method will never work because the intermediate object on which we are setting values always behaves as a copy.\n",
      "\n",
      "For example, when doing 'df[col].method(value, inplace=True)', try using 'df.method({col: value}, inplace=True)' or df[col] = df[col].method(value) instead, to perform the operation inplace on the original object.\n",
      "\n",
      "\n",
      "  oil[\"dcoilwtico\"].fillna(method=\"bfill\", inplace=True)\n",
      "C:\\Users\\faresaboagour\\AppData\\Local\\Temp\\ipykernel_1188\\669572655.py:1: FutureWarning: Series.fillna with 'method' is deprecated and will raise in a future version. Use obj.ffill() or obj.bfill() instead.\n",
      "  oil[\"dcoilwtico\"].fillna(method=\"bfill\", inplace=True)\n"
     ]
    }
   ],
   "source": [
    "oil[\"dcoilwtico\"].fillna(method=\"bfill\", inplace=True)"
   ],
   "metadata": {
    "collapsed": false,
    "ExecuteTime": {
     "end_time": "2025-03-21T16:11:40.045453600Z",
     "start_time": "2025-03-21T16:11:40.000871Z"
    }
   },
   "id": "674d8aa636dc8444"
  },
  {
   "cell_type": "markdown",
   "source": [
    "## EDA"
   ],
   "metadata": {
    "collapsed": false
   },
   "id": "866e80caa8c3163e"
  },
  {
   "cell_type": "code",
   "execution_count": 22,
   "outputs": [
    {
     "data": {
      "text/plain": "              id       date  store_nbr                      family     sales  \\\n0              0 2013-01-01          1                  AUTOMOTIVE     0.000   \n1              1 2013-01-01          1                   BABY CARE     0.000   \n2              2 2013-01-01          1                      BEAUTY     0.000   \n3              3 2013-01-01          1                   BEVERAGES     0.000   \n4              4 2013-01-01          1                       BOOKS     0.000   \n...          ...        ...        ...                         ...       ...   \n3000883  3000883 2017-08-15          9                     POULTRY   438.133   \n3000884  3000884 2017-08-15          9              PREPARED FOODS   154.553   \n3000885  3000885 2017-08-15          9                     PRODUCE  2419.729   \n3000886  3000886 2017-08-15          9  SCHOOL AND OFFICE SUPPLIES   121.000   \n3000887  3000887 2017-08-15          9                     SEAFOOD    16.000   \n\n         onpromotion  \n0                  0  \n1                  0  \n2                  0  \n3                  0  \n4                  0  \n...              ...  \n3000883            0  \n3000884            1  \n3000885          148  \n3000886            8  \n3000887            0  \n\n[3000888 rows x 6 columns]",
      "text/html": "<div>\n<style scoped>\n    .dataframe tbody tr th:only-of-type {\n        vertical-align: middle;\n    }\n\n    .dataframe tbody tr th {\n        vertical-align: top;\n    }\n\n    .dataframe thead th {\n        text-align: right;\n    }\n</style>\n<table border=\"1\" class=\"dataframe\">\n  <thead>\n    <tr style=\"text-align: right;\">\n      <th></th>\n      <th>id</th>\n      <th>date</th>\n      <th>store_nbr</th>\n      <th>family</th>\n      <th>sales</th>\n      <th>onpromotion</th>\n    </tr>\n  </thead>\n  <tbody>\n    <tr>\n      <th>0</th>\n      <td>0</td>\n      <td>2013-01-01</td>\n      <td>1</td>\n      <td>AUTOMOTIVE</td>\n      <td>0.000</td>\n      <td>0</td>\n    </tr>\n    <tr>\n      <th>1</th>\n      <td>1</td>\n      <td>2013-01-01</td>\n      <td>1</td>\n      <td>BABY CARE</td>\n      <td>0.000</td>\n      <td>0</td>\n    </tr>\n    <tr>\n      <th>2</th>\n      <td>2</td>\n      <td>2013-01-01</td>\n      <td>1</td>\n      <td>BEAUTY</td>\n      <td>0.000</td>\n      <td>0</td>\n    </tr>\n    <tr>\n      <th>3</th>\n      <td>3</td>\n      <td>2013-01-01</td>\n      <td>1</td>\n      <td>BEVERAGES</td>\n      <td>0.000</td>\n      <td>0</td>\n    </tr>\n    <tr>\n      <th>4</th>\n      <td>4</td>\n      <td>2013-01-01</td>\n      <td>1</td>\n      <td>BOOKS</td>\n      <td>0.000</td>\n      <td>0</td>\n    </tr>\n    <tr>\n      <th>...</th>\n      <td>...</td>\n      <td>...</td>\n      <td>...</td>\n      <td>...</td>\n      <td>...</td>\n      <td>...</td>\n    </tr>\n    <tr>\n      <th>3000883</th>\n      <td>3000883</td>\n      <td>2017-08-15</td>\n      <td>9</td>\n      <td>POULTRY</td>\n      <td>438.133</td>\n      <td>0</td>\n    </tr>\n    <tr>\n      <th>3000884</th>\n      <td>3000884</td>\n      <td>2017-08-15</td>\n      <td>9</td>\n      <td>PREPARED FOODS</td>\n      <td>154.553</td>\n      <td>1</td>\n    </tr>\n    <tr>\n      <th>3000885</th>\n      <td>3000885</td>\n      <td>2017-08-15</td>\n      <td>9</td>\n      <td>PRODUCE</td>\n      <td>2419.729</td>\n      <td>148</td>\n    </tr>\n    <tr>\n      <th>3000886</th>\n      <td>3000886</td>\n      <td>2017-08-15</td>\n      <td>9</td>\n      <td>SCHOOL AND OFFICE SUPPLIES</td>\n      <td>121.000</td>\n      <td>8</td>\n    </tr>\n    <tr>\n      <th>3000887</th>\n      <td>3000887</td>\n      <td>2017-08-15</td>\n      <td>9</td>\n      <td>SEAFOOD</td>\n      <td>16.000</td>\n      <td>0</td>\n    </tr>\n  </tbody>\n</table>\n<p>3000888 rows × 6 columns</p>\n</div>"
     },
     "execution_count": 22,
     "metadata": {},
     "output_type": "execute_result"
    }
   ],
   "source": [
    "train"
   ],
   "metadata": {
    "collapsed": false,
    "ExecuteTime": {
     "end_time": "2025-03-21T16:17:26.674579500Z",
     "start_time": "2025-03-21T16:17:26.637504600Z"
    }
   },
   "id": "2ad62be4d1a546d6"
  },
  {
   "cell_type": "markdown",
   "source": [
    "### Sales over time"
   ],
   "metadata": {
    "collapsed": false
   },
   "id": "9eaf7d2c7a41f539"
  },
  {
   "cell_type": "code",
   "execution_count": 27,
   "outputs": [
    {
     "data": {
      "text/plain": "<Figure size 640x480 with 1 Axes>",
      "image/png": "[encoded data removed]"
     },
     "metadata": {},
     "output_type": "display_data"
    }
   ],
   "source": [
    "sales_over_time = train.groupby('date')['sales'].sum()\n",
    "plt.plot(sales_over_time)\n",
    "plt.show()"
   ],
   "metadata": {
    "collapsed": false,
    "ExecuteTime": {
     "end_time": "2025-03-21T16:18:57.207395700Z",
     "start_time": "2025-03-21T16:18:56.931353Z"
    }
   },
   "id": "999dfa2cbf78ba60"
  },
  {
   "cell_type": "code",
   "execution_count": 28,
   "outputs": [],
   "source": [
    "train[\"day\"] = train[\"date\"].dt.dayofweek\n",
    "daily_sales = train.groupby(\"day\")[\"sales\"].sum()"
   ],
   "metadata": {
    "collapsed": false,
    "ExecuteTime": {
     "end_time": "2025-03-21T16:19:52.732858300Z",
     "start_time": "2025-03-21T16:19:52.540683300Z"
    }
   },
   "id": "a16f22df8afa5706"
  },
  {
   "cell_type": "code",
   "execution_count": 29,
   "outputs": [],
   "source": [],
   "metadata": {
    "collapsed": false,
    "ExecuteTime": {
     "end_time": "2025-03-21T17:32:10.965873300Z",
     "start_time": "2025-03-21T17:32:10.942173600Z"
    }
   },
   "id": "a97f2203914a9e8c"
  },
  {
   "cell_type": "code",
   "execution_count": null,
   "outputs": [],
   "source": [],
   "metadata": {
    "collapsed": false
   },
   "id": "e86d0f24cb8f3e59"
  },
  {
   "cell_type": "markdown",
   "source": [
    "## reduce train.csv file to 4000000 row"
   ],
   "metadata": {
    "collapsed": false
   },
   "id": "59d6c99dfed571b5"
  },
  {
   "cell_type": "code",
   "execution_count": 34,
   "outputs": [],
   "source": [
    "train_df = train[:200000]\n",
    "train_df.to_csv('train_reduced.csv', index=False)"
   ],
   "metadata": {
    "collapsed": false,
    "ExecuteTime": {
     "end_time": "2025-03-21T18:48:20.270281400Z",
     "start_time": "2025-03-21T18:48:19.476150100Z"
    }
   },
   "id": "ea8ec06a7ce364ee"
  },
  {
   "cell_type": "code",
   "execution_count": null,
   "outputs": [],
   "source": [],
   "metadata": {
    "collapsed": false
   },
   "id": "bb849e95bc33e6e9"
  }
 ],
 "metadata": {
  "kernelspec": {
   "display_name": "Python 3",
   "language": "python",
   "name": "python3"
  },
  "language_info": {
   "codemirror_mode": {
    "name": "ipython",
    "version": 2
   },
   "file_extension": ".py",
   "mimetype": "text/x-python",
   "name": "python",
   "nbconvert_exporter": "python",
   "pygments_lexer": "ipython2",
   "version": "2.7.6"
  }
 },
 "nbformat": 4,
 "nbformat_minor": 5
}
